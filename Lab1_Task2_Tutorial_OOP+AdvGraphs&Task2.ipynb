{
  "cells": [
    {
      "cell_type": "markdown",
      "metadata": {},
      "source": [
        "# Lab1. Graph Data Visualization with Python. Part2: OOP +JSON"
      ]
    },
    {
      "cell_type": "markdown",
      "metadata": {},
      "source": [
        "## Lab1. Part 2: Brief description"
      ]
    },
    {
      "cell_type": "markdown",
      "metadata": {},
      "source": [
        "[Game of Thrones](https://en.wikipedia.org/wiki/Game_of_Thrones) is arguably one of the biggest pop culture phenomena to hit the public zeitgeist in the last decade.\n",
        "\n",
        "In this task, we will need to analyze data on relationships (family ties) between characters in the Game of Thrones  and then build a network (a set of graphs representing the main Houses - Dynasties).\n",
        "\n",
        "\n",
        "\n",
        "\n",
        "The *game-of-thrones-characters-groups.json* dataset stores about characters and their relationships (family ties).\n",
        "\n",
        "We will build and visualize a undirected graph where nodes are characters (the central node will be the House - Dynasty name) and and edges represent dynasty membership."
      ]
    },
    {
      "cell_type": "markdown",
      "metadata": {},
      "source": [
        "## !!! This section is for online mode ONLY (when you work with Google Colab in your browser)"
      ]
    },
    {
      "cell_type": "code",
      "execution_count": null,
      "metadata": {},
      "outputs": [],
      "source": [
        "#for working in Google Colab!!!! - online\n",
        "%load_ext autoreload\n",
        "#Now, you can turn on auto-reloading\n",
        "%autoreload 2"
      ]
    },
    {
      "cell_type": "markdown",
      "metadata": {
        "id": "-OHqj_w-UgBi"
      },
      "source": [
        "There are 3 configuration options that you can set:\n",
        "\n",
        "*%autoreload 0* - disables the auto-reloading. This is the default setting.\n",
        "\n",
        "*%autoreload 1* - it will only auto-reload modules that were imported using the %aimport function (e.g %aimport my_module). It's a good option if you want to specifically auto-reload only a selected module.\n",
        "\n",
        "*%autoreload 2* - auto-reload all the modules. Great way to make writing and testing your modules much easier."
      ]
    },
    {
      "cell_type": "code",
      "execution_count": null,
      "metadata": {},
      "outputs": [],
      "source": [
        "#for online mode woth Google Colab ONLY!!!\n",
        "from google.colab import drive\n",
        "drive.mount('/content/drive')"
      ]
    },
    {
      "cell_type": "code",
      "execution_count": null,
      "metadata": {
        "id": "pbTmKm1TYIpT"
      },
      "outputs": [],
      "source": [
        "path=\"/content/drive/MyDrive/Colab_Notebooks/cs3220_A1\""
      ]
    },
    {
      "cell_type": "code",
      "execution_count": null,
      "metadata": {
        "id": "4w4_aeEwYVDj"
      },
      "outputs": [],
      "source": [
        "import os"
      ]
    },
    {
      "cell_type": "code",
      "execution_count": null,
      "metadata": {
        "id": "2EfocNrHYWpa"
      },
      "outputs": [],
      "source": [
        "os.listdir(path)"
      ]
    },
    {
      "cell_type": "code",
      "execution_count": null,
      "metadata": {
        "id": "35oKSTKOZ2Vn"
      },
      "outputs": [],
      "source": [
        "import sys\n",
        "sys.path.append(path)"
      ]
    },
    {
      "cell_type": "code",
      "execution_count": null,
      "metadata": {
        "id": "QCqXtk833kn9"
      },
      "outputs": [],
      "source": [
        "from person_class import Person"
      ]
    },
    {
      "cell_type": "code",
      "execution_count": null,
      "metadata": {
        "id": "aMtik6MNsgQh"
      },
      "outputs": [],
      "source": [
        "from google.colab import files\n",
        "dir_to_zip = '/content/drive/MyDrive/Colab_Notebooks/cs3220_A1' #@param {type: \"string\"}\n",
        "output_filename = '/content/drive/MyDrive/Colab_Notebooks/cs3220_A1.zip' #@param {type: \"string\"}\n",
        "delete_dir_after_download = \"No\"  #@param ['Yes', 'No']"
      ]
    },
    {
      "cell_type": "code",
      "execution_count": null,
      "metadata": {
        "colab": {
          "base_uri": "https://localhost:8080/"
        },
        "id": "_UFuW3njr1wH",
        "outputId": "8998d284-1a15-4ccd-fb67-a692fdeb8b0b"
      },
      "outputs": [
        {
          "name": "stdout",
          "output_type": "stream",
          "text": [
            "  adding: content/drive/MyDrive/Colab_Notebooks/cs3220_A1/ (stored 0%)\n",
            "  adding: content/drive/MyDrive/Colab_Notebooks/cs3220_A1/student_class.py (deflated 22%)\n",
            "  adding: content/drive/MyDrive/Colab_Notebooks/cs3220_A1/instructor_class.py (deflated 22%)\n",
            "  adding: content/drive/MyDrive/Colab_Notebooks/cs3220_A1/Lab1_Tutorial.ipynb (deflated 62%)\n",
            "  adding: content/drive/MyDrive/Colab_Notebooks/cs3220_A1/__pycache__/ (stored 0%)\n",
            "  adding: content/drive/MyDrive/Colab_Notebooks/cs3220_A1/__pycache__/person.cpython-310.pyc (deflated 31%)\n",
            "  adding: content/drive/MyDrive/Colab_Notebooks/cs3220_A1/__pycache__/py1.cpython-310.pyc (deflated 27%)\n",
            "  adding: content/drive/MyDrive/Colab_Notebooks/cs3220_A1/__pycache__/person1.cpython-310.pyc (deflated 38%)\n",
            "  adding: content/drive/MyDrive/Colab_Notebooks/cs3220_A1/__pycache__/person_class.cpython-310.pyc (deflated 31%)\n",
            "  adding: content/drive/MyDrive/Colab_Notebooks/cs3220_A1/.ipynb_checkpoints/ (stored 0%)\n",
            "  adding: content/drive/MyDrive/Colab_Notebooks/cs3220_A1/person_class.py (stored 0%)\n",
            "  adding: content/drive/MyDrive/Colab_Notebooks/cs3220_A1/student.py (deflated 22%)\n"
          ]
        }
      ],
      "source": [
        "!zip -r $output_filename {dir_to_zip}"
      ]
    },
    {
      "cell_type": "code",
      "execution_count": null,
      "metadata": {
        "colab": {
          "base_uri": "https://localhost:8080/",
          "height": 17
        },
        "id": "yaYhFU2bsO2u",
        "outputId": "7d1687f8-7737-402a-f228-36e5c9ce6f87"
      },
      "outputs": [
        {
          "data": {
            "application/javascript": "\n    async function download(id, filename, size) {\n      if (!google.colab.kernel.accessAllowed) {\n        return;\n      }\n      const div = document.createElement('div');\n      const label = document.createElement('label');\n      label.textContent = `Downloading \"${filename}\": `;\n      div.appendChild(label);\n      const progress = document.createElement('progress');\n      progress.max = size;\n      div.appendChild(progress);\n      document.body.appendChild(div);\n\n      const buffers = [];\n      let downloaded = 0;\n\n      const channel = await google.colab.kernel.comms.open(id);\n      // Send a message to notify the kernel that we're ready.\n      channel.send({})\n\n      for await (const message of channel.messages) {\n        // Send a message to notify the kernel that we're ready.\n        channel.send({})\n        if (message.buffers) {\n          for (const buffer of message.buffers) {\n            buffers.push(buffer);\n            downloaded += buffer.byteLength;\n            progress.value = downloaded;\n          }\n        }\n      }\n      const blob = new Blob(buffers, {type: 'application/binary'});\n      const a = document.createElement('a');\n      a.href = window.URL.createObjectURL(blob);\n      a.download = filename;\n      div.appendChild(a);\n      a.click();\n      div.remove();\n    }\n  ",
            "text/plain": [
              "<IPython.core.display.Javascript object>"
            ]
          },
          "metadata": {},
          "output_type": "display_data"
        },
        {
          "data": {
            "application/javascript": "download(\"download_5fae410c-6d0b-4da9-9ee6-1b2a41df5b27\", \"cs3220_A1.zip\", 17612)",
            "text/plain": [
              "<IPython.core.display.Javascript object>"
            ]
          },
          "metadata": {},
          "output_type": "display_data"
        }
      ],
      "source": [
        "# command to download the zipped folder\n",
        "# Specify the path of the zipped file within the\n",
        "# parenthesis of the downlaod function\n",
        "files.download(output_filename)"
      ]
    },
    {
      "cell_type": "markdown",
      "metadata": {
        "id": "HrR1nVWMyV3s"
      },
      "source": [
        "## Objected Oriented Programming in Python"
      ]
    },
    {
      "cell_type": "markdown",
      "metadata": {},
      "source": [
        "### Brief theory"
      ]
    },
    {
      "cell_type": "markdown",
      "metadata": {
        "id": "pozbIntXya2I"
      },
      "source": [
        "***Object oriented programming*** is a data-centered programming paradigm that is based on the idea of grouping data and functions that act on particular data in so-called classes.\n",
        "\n",
        "A ***class*** can be seen as a complex data-type, a template if you will.\n",
        "\n",
        "***Variables*** that are of that data type are said to be **objects** or **instances** of that class."
      ]
    },
    {
      "cell_type": "code",
      "execution_count": 3,
      "metadata": {
        "id": "DVQDwZCwwy1y"
      },
      "outputs": [],
      "source": [
        "class Person:\n",
        "    def __init__(self, name, age):\n",
        "        self.name = name\n",
        "        self.age = age"
      ]
    },
    {
      "cell_type": "markdown",
      "metadata": {
        "id": "ZNCpFkfZ0eqa"
      },
      "source": [
        "Here we created a class Person with a function *__init__*.\n",
        "\n",
        "Functions that start with underscores are always special functions to Python which are connected with other built-in aspects of the language.\n",
        "\n",
        "Functions within a class are called **methods**.\n",
        "\n",
        "The initialisation method assigns the two parameters that are passed to variables that belong to the object, within a class definition the object is always represented by self.\n",
        "\n",
        "The first argument of a method is always *self*, and it will always point to the instance of the class. This first argument however is never explicitly specified when you call the method. It is implicitly passed by Python itself. That is why you see a discrepancy between the number of arguments in the instantiation and in the class definition.\n",
        "\n",
        "Any *variable or methods in a class can be accessed using the period* (.) syntax:\n",
        "\n",
        "*object.variable*\n",
        "\n",
        "or\n",
        "\n",
        "*object.method*\n"
      ]
    },
    {
      "cell_type": "markdown",
      "metadata": {
        "id": "MvS4LoU81TXL"
      },
      "source": [
        "The *initialisation function* will be called when an object of that initialised. Let's do so:"
      ]
    },
    {
      "cell_type": "code",
      "execution_count": 4,
      "metadata": {
        "colab": {
          "base_uri": "https://localhost:8080/"
        },
        "id": "VaQwfINI1XJ8",
        "outputId": "514990a3-5613-4bbd-d65f-6ba68f8f2a68"
      },
      "outputs": [
        {
          "name": "stdout",
          "output_type": "stream",
          "text": [
            "My name is Anna\n",
            "My age is 20\n"
          ]
        }
      ],
      "source": [
        "instructor = Person(\"Anna\", 20)\n",
        "print(\"My name is \" + instructor.name)\n",
        "print(\"My age is \" + str(instructor.age))"
      ]
    },
    {
      "cell_type": "markdown",
      "metadata": {
        "id": "isitT6B67O4y"
      },
      "source": [
        "Unbeknowst to you, we have already made use of countless objects and methods throughout this course.\n",
        "Things like strings, lists, sets, dictionaries are all objects! The object oriented paradigm is ubiquitous in Python!"
      ]
    },
    {
      "cell_type": "markdown",
      "metadata": {
        "id": "fVFgGIJo1mJ8"
      },
      "source": [
        " Let's extend our example (to print the name and age):"
      ]
    },
    {
      "cell_type": "code",
      "execution_count": 5,
      "metadata": {
        "id": "XMO_yMyv18bt"
      },
      "outputs": [
        {
          "name": "stdout",
          "output_type": "stream",
          "text": [
            "My name is Hanna\n",
            "My age is 25\n"
          ]
        }
      ],
      "source": [
        "class Person:\n",
        "    def __init__(self, name, age):\n",
        "        self.name = name\n",
        "        self.age = age\n",
        "\n",
        "    def introduceyourself(self):\n",
        "        print(\"My name is \" + self.name)\n",
        "        print(\"My age is \" + str(self.age))\n",
        "\n",
        "instructor = Person(\"Hanna\",25)\n",
        "instructor.introduceyourself()"
      ]
    },
    {
      "cell_type": "markdown",
      "metadata": {
        "id": "S_DoT7SAfXyX"
      },
      "source": [
        "When the method is called, Python replaces the *self* argument with the instance object"
      ]
    },
    {
      "cell_type": "markdown",
      "metadata": {
        "id": "cVB-F33cbTeD"
      },
      "source": [
        "Methods like .__init__() and .__str__() are called **dunder methods** because they begin and end with double underscores.\n",
        "\n",
        "There are many dunder methods that you can use to customize classes in Python\n",
        "[When Should You Use .__repr__() vs .__str__() in Python?](https://realpython.com/python-repr-vs-str/)"
      ]
    },
    {
      "cell_type": "markdown",
      "metadata": {
        "id": "78WaWVkubXo3"
      },
      "source": [
        "Attributes created in .__init__() are called *instance attributes*.\n",
        "An instance attribute’s value is specific to a particular instance of the class"
      ]
    },
    {
      "cell_type": "markdown",
      "metadata": {
        "id": "FJc4OKwBcBQ8"
      },
      "source": [
        "On the other hand, **class attributes** are attributes that have the same value for all class instances.\n",
        "You can define a class attribute by assigning a value to a variable name outside of .__init__()."
      ]
    },
    {
      "cell_type": "code",
      "execution_count": 6,
      "metadata": {
        "id": "FG2IRCaTcHjH"
      },
      "outputs": [
        {
          "name": "stdout",
          "output_type": "stream",
          "text": [
            "My name is Hanna\n",
            "My age is 25\n"
          ]
        }
      ],
      "source": [
        "class Person:\n",
        "    whoIs=\"homo sapiens\"\n",
        "    def __init__(self, name, age):\n",
        "        self.name = name\n",
        "        self.age = age\n",
        "\n",
        "    def introduceyourself(self):\n",
        "        print(\"My name is \" + self.name)\n",
        "        print(\"My age is \" + str(self.age))\n",
        "\n",
        "instructor = Person(\"Hanna\",25)\n",
        "instructor.introduceyourself()"
      ]
    },
    {
      "cell_type": "markdown",
      "metadata": {
        "id": "o_f4CR3uccwC"
      },
      "source": [
        "When you create an instance of the class, then Python automatically creates and assigns class attributes to their initial values."
      ]
    },
    {
      "cell_type": "code",
      "execution_count": 7,
      "metadata": {
        "id": "054YefFYcnxf"
      },
      "outputs": [
        {
          "name": "stdout",
          "output_type": "stream",
          "text": [
            "homo sapiens\n"
          ]
        },
        {
          "data": {
            "text/plain": [
              "'homo sapiens'"
            ]
          },
          "execution_count": 7,
          "metadata": {},
          "output_type": "execute_result"
        }
      ],
      "source": [
        "instructor1 = Person(\"Hanna\",25)\n",
        "print(instructor1.whoIs)\n",
        "instructor1.whoIs=\"woman\"\n",
        "\n",
        "instructor2 = Person(\"Anna\",20)\n",
        "instructor2.whoIs"
      ]
    },
    {
      "cell_type": "markdown",
      "metadata": {
        "id": "FVaPNWSqdqUu"
      },
      "source": [
        "To determine which class a given object belongs to, you can use the *built-in type()*:"
      ]
    },
    {
      "cell_type": "code",
      "execution_count": 8,
      "metadata": {
        "id": "9Yavx1vwdsZW"
      },
      "outputs": [
        {
          "data": {
            "text/plain": [
              "__main__.Person"
            ]
          },
          "execution_count": 8,
          "metadata": {},
          "output_type": "execute_result"
        }
      ],
      "source": [
        "type(instructor1)"
      ]
    },
    {
      "cell_type": "markdown",
      "metadata": {
        "id": "nDMCPzCmq4YW"
      },
      "source": [
        "[Getters and Setters: Manage Attributes in Python](https://realpython.com/python-getter-setter/)"
      ]
    },
    {
      "cell_type": "code",
      "execution_count": 12,
      "metadata": {
        "id": "CBCjdkC5rgvC"
      },
      "outputs": [
        {
          "name": "stdout",
          "output_type": "stream",
          "text": [
            "Hanna\n",
            "Anna\n",
            "Franco\n"
          ]
        }
      ],
      "source": [
        "class Person:\n",
        "    whoIs=\"homo sapiens\"\n",
        "    def __init__(self, name, age):\n",
        "        self._name = name\n",
        "\n",
        "    @property\n",
        "    def name(self):\n",
        "        return self._name\n",
        "\n",
        "    @name.setter\n",
        "    def name(self, value):\n",
        "        self._name = value\n",
        "\n",
        "class Teacher(Person): #this class inherits the class Person\n",
        "    @property\n",
        "    def name(self):\n",
        "      return super().name.title()\n",
        "\n",
        "instructor1 = Person(\"Hanna\",25)\n",
        "print(instructor1.name)\n",
        "instructor1.name=\"Anna\"\n",
        "print(instructor1.name)\n",
        "\n",
        "instructor2 = Teacher(\"franco\",20)\n",
        "print(instructor2.name)\n",
        "#instructor2.name=\"Anna\" # AttributeError: property 'name' of 'Teacher' object has no setter\n",
        "\n",
        "\n"
      ]
    },
    {
      "cell_type": "markdown",
      "metadata": {
        "id": "Osq5w5vgg6Cv"
      },
      "source": [
        "A **class method** is a method that is bound to a class rather than its object. It doesn't require creation of a class instance.\n",
        "\n",
        "Class method works with the class since its parameter is always the class itself.\n",
        "\n",
        "The class method can be called both by the class and its object.\n",
        "\n",
        "You can use the @classmethod decorator for classmethod definition\n",
        "![image.png](data:image/png;base64,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)\n",
        "\n",
        "The class method is always attached to a class with the first argument as the class itself *cls*"
      ]
    },
    {
      "cell_type": "markdown",
      "metadata": {
        "id": "2XUtqQy8h62x"
      },
      "source": [
        "*When do you use the class method?*\n",
        "1. *Factory methods*\n",
        "\n",
        "are those methods that return a class object (like constructor) for different use cases.\n",
        "\n",
        "It is similar to function overloading in C++ . Since, Python doesn't have anything as such, class methods and static methods are used."
      ]
    },
    {
      "cell_type": "code",
      "execution_count": 13,
      "metadata": {
        "id": "MHe_wfg2iSCz"
      },
      "outputs": [
        {
          "name": "stdout",
          "output_type": "stream",
          "text": [
            "My name is Hanna\n",
            "My age is 25\n"
          ]
        }
      ],
      "source": [
        "from datetime import date\n",
        "\n",
        "class Person:\n",
        "    whoIs=\"homo sapiens\"\n",
        "    def __init__(self, name, age):\n",
        "        self.name = name\n",
        "        self.age = age\n",
        "\n",
        "    def introduceyourself(self):\n",
        "        print(\"My name is \" + self.name)\n",
        "        print(\"My age is \" + str(self.age))\n",
        "\n",
        "    @classmethod\n",
        "    def fromBirthYear(cls, name, birthYear):\n",
        "        return cls(name, date.today().year - birthYear)\n",
        "\n",
        "instructor = Person.fromBirthYear('Hanna',  2000)\n",
        "instructor.introduceyourself()"
      ]
    },
    {
      "cell_type": "markdown",
      "metadata": {
        "id": "FyPzMMHgiql6"
      },
      "source": [
        "2. Correct instance creation in *inheritance* - see later..."
      ]
    },
    {
      "cell_type": "markdown",
      "metadata": {
        "id": "5gLjH9Yx7fVp"
      },
      "source": [
        "**Inheritance**"
      ]
    },
    {
      "cell_type": "markdown",
      "metadata": {
        "id": "zm1QzqsS7lNK"
      },
      "source": [
        "You can build more specialised classes on top of more generic classes.\n",
        "*Person* for instance is a rather generic concept. We can use this generic class to build a more specialised class *Teacher*, a person that teaches a course.\n",
        "\n",
        "If you use inheritance, everything that the parent class could do, the inherited class can do as well!\n",
        "\n",
        "The syntax for inheritance is as follows, do not confuse it with parameters in a function/method definition.\n",
        "\n",
        "We also add an extra method *stateprofession()* otherwise *Teacher* would be no different than *Person*:"
      ]
    },
    {
      "cell_type": "code",
      "execution_count": 14,
      "metadata": {
        "id": "ynAgWTEW8FIK"
      },
      "outputs": [],
      "source": [
        "class Person:\n",
        "    def __init__(self, name, age):\n",
        "        self.name = name\n",
        "        self.age = age\n",
        "\n",
        "    def introduceyourself(self):\n",
        "        print(\"My name is \" + self.name)\n",
        "        print(\"My age is \" + str(self.age))\n",
        "\n",
        "\n",
        "class Teacher(Person): #this class inherits the class Person\n",
        "    def stateprofession(self):\n",
        "        print(\"I am a teacher!\")"
      ]
    },
    {
      "cell_type": "code",
      "execution_count": 15,
      "metadata": {
        "id": "E-looEIU8NZp"
      },
      "outputs": [
        {
          "name": "stdout",
          "output_type": "stream",
          "text": [
            "My name is Hanna\n",
            "My age is 20\n",
            "I am a teacher!\n"
          ]
        }
      ],
      "source": [
        "instructor = Teacher(\"Hanna\",20)\n",
        "instructor.introduceyourself()\n",
        "instructor.stateprofession()"
      ]
    },
    {
      "cell_type": "markdown",
      "metadata": {
        "id": "mpoa-Z6Yt-Sp"
      },
      "source": [
        "In OOP, Inheritance signifies an IS-A relation."
      ]
    },
    {
      "cell_type": "markdown",
      "metadata": {
        "id": "FR01xbEPuE0Q"
      },
      "source": [
        "**Overloading VS Overriding**\n",
        "\n",
        "**Overloading** refers to the ability to define a function with the same name multiple times and seeing different results depending on the number or types of the parameters.\n",
        "\n",
        "**Overriding** refers to having a method with the same name in the child class as in the parent class. The definition of the method differs in parent and child classes but the name remains the same.\n",
        "\n",
        "**!!!** Overriding means that the first definition will not be available anymore.\n",
        "\n"
      ]
    },
    {
      "cell_type": "markdown",
      "metadata": {
        "id": "95MSgWN78L3C"
      },
      "source": [
        "Instead of completely overloading a method, you can also **call the method of the parent class** (to avoid repetition of code.\n",
        "\n",
        "We need to keep track of the courses that are taught by the teacher."
      ]
    },
    {
      "cell_type": "code",
      "execution_count": 16,
      "metadata": {
        "id": "tNiEbr6ZVle4"
      },
      "outputs": [],
      "source": [
        "class Teacher(Person): #this class inherits the class Person\n",
        "    def __init__(self, name, age):\n",
        "        self.courses = [] #initialise a new variable\n",
        "        super().__init__(name,age) #call the init of Person\n",
        "\n",
        "    def stateOccupation(self):\n",
        "        print(\"I am a teacher!\")\n",
        "\n",
        "    def introduceyourself(self):\n",
        "        super().introduceyourself() #call the introduceyourself() of the Person\n",
        "        self.stateOccupation()\n",
        "        print(\"I teach \" + str(self.nCourses()) + \" course(s)\")\n",
        "        for course in self.courses:\n",
        "            print(\"I teach \" + course)\n",
        "\n",
        "\n",
        "\n",
        "    def addcourse(self, course):\n",
        "        self.courses.append(course)\n",
        "\n",
        "    def nCourses(self):\n",
        "        return len(self.courses)\n",
        "\n"
      ]
    },
    {
      "cell_type": "code",
      "execution_count": 17,
      "metadata": {
        "id": "WZwq4q7ZVpwE"
      },
      "outputs": [
        {
          "name": "stdout",
          "output_type": "stream",
          "text": [
            "My name is Hanna\n",
            "My age is 20\n",
            "I am a teacher!\n",
            "I teach 2 course(s)\n",
            "I teach Software Engineering\n",
            "I teach AI\n"
          ]
        }
      ],
      "source": [
        "instructor = Teacher(\"Hanna\",20)\n",
        "instructor.addcourse(\"Software Engineering\")\n",
        "instructor.addcourse(\"AI\")\n",
        "instructor.introduceyourself()"
      ]
    },
    {
      "cell_type": "markdown",
      "metadata": {
        "id": "gxOZdIXRjVQG"
      },
      "source": [
        "Whenever you derive a class from implementing a factory method as a **class method**, it ensures correct instance creation of the derived class."
      ]
    },
    {
      "cell_type": "code",
      "execution_count": 18,
      "metadata": {
        "id": "DXkpMrFPjeAP"
      },
      "outputs": [
        {
          "data": {
            "text/plain": [
              "'smart homo sapiens'"
            ]
          },
          "execution_count": 18,
          "metadata": {},
          "output_type": "execute_result"
        }
      ],
      "source": [
        "from datetime import date\n",
        "\n",
        "class Person:\n",
        "    whoIs=\"homo sapiens\"\n",
        "    def __init__(self, name, age):\n",
        "        self.name = name\n",
        "        self.age = age\n",
        "\n",
        "    def introduceyourself(self):\n",
        "        print(\"My name is \" + self.name)\n",
        "        print(\"My age is \" + str(self.age))\n",
        "\n",
        "    @classmethod\n",
        "    def fromBirthYear(cls, name, birthYear):\n",
        "        return cls(name, date.today().year - birthYear)\n",
        "\n",
        "\n",
        "class Instructor(Person): #this class inherits the class Person\n",
        "    whoIs=\"smart homo sapiens\"\n",
        "    def __init__(self, name, age):\n",
        "        self.courses = [] #initialise a new variable\n",
        "        super().__init__(name,age) #call the init of Person\n",
        "\n",
        "\n",
        "instructor1 = Instructor(\"Hanna\",20)\n",
        "instructor1.whoIs"
      ]
    },
    {
      "cell_type": "markdown",
      "metadata": {
        "id": "kPzWMtUZlQr4"
      },
      "source": [
        "**Static methods**, as the name suggests, are not bound to either the class or its instances. They are defined using the *@staticmethod* decorator and do not take a reference to the instance or the class as their first parameter.\n",
        "\n",
        "Static methods are essentially regular functions within the class namespace and are useful for tasks that do not depend on instance-specific or class-specific data.\n",
        "\n",
        "A static method can be called on the class itself, rather than on an instance of the class.\n",
        "\n",
        "One of the main benefits of using static methods in Python is that they can be called without creating an instance of the class. This makes them useful for utility functions and other methods that don’t need access to instance-specific data.\n",
        "\n",
        "Another advantage of using static methods is that they can improve the organization and readability of your code. By grouping related functions and utility methods together in a single class, you can make it easier to understand the purpose and functionality of each part of your code."
      ]
    },
    {
      "cell_type": "code",
      "execution_count": 22,
      "metadata": {
        "id": "DJSe8mX7lPvk"
      },
      "outputs": [
        {
          "data": {
            "text/plain": [
              "True"
            ]
          },
          "execution_count": 22,
          "metadata": {},
          "output_type": "execute_result"
        }
      ],
      "source": [
        "from datetime import date\n",
        "\n",
        "class Instructor(Person): #this class inherits the class Person\n",
        "    whoIs=\"smart homo sapiens\"\n",
        "    def __init__(self, name, age):\n",
        "        self.courses = [] #initialise a new variable\n",
        "        super().__init__(name,age) #call the init of Person\n",
        "\n",
        "    @staticmethod\n",
        "    def is_weekday(day):\n",
        "        if day.weekday() == 5 or day.weekday() == 6:\n",
        "            return False\n",
        "        return True\n",
        "\n",
        "\n",
        "instructor1 = Instructor(\"Hanna\",20)\n",
        "day = date(2024, 12, 25)\n",
        "instructor1.is_weekday(day)"
      ]
    },
    {
      "cell_type": "markdown",
      "metadata": {},
      "source": [
        "### Exercises"
      ]
    },
    {
      "cell_type": "markdown",
      "metadata": {
        "id": "RGh2RkUH1s2-"
      },
      "source": [
        "**Exercise 1:**\n",
        "Our app has users that are either instructors or students.\n",
        "\n",
        "Instructors and students will share certain attributes and have certain behaviors that are unique to them.\n",
        "You'll be defining a Person class that both students and instructors inherit from and you'll be writing methods within both the Instructor and Student class that are unique to that class.\n",
        "\n",
        "1. Define the Person class such that a user is instantiated with a first_name and last_name. These should be saved as attributes.\n",
        "\n",
        "2. We've given you a barebones Instructor class in instructor.py\n",
        "\n",
        "We've given you a list of knowledge strings below; modify the Instructor class so that it initializes with this list. Use @property syntax to create your property knowledge.\n",
        "\n",
        "3. Create the teach() method in the Instructor class so that it returns a random element from knowledge list. We need to import Python's random library. You will want to use the random.randint() method to choose a random index in knowledge list. This method takes 2 arguments, a minimum number and a maximum number, and returns a random element in the range.\n",
        "\n",
        "4. We've given you a barebones Student class. Individual students should initialize with an attribute, knowledge, that points to an empty list.\n",
        "\n",
        "5. Create the learn() method in the Student class so that in takes in a string and adds that string to the student's knowledge list\n"
      ]
    },
    {
      "cell_type": "code",
      "execution_count": 20,
      "metadata": {
        "id": "YKJd1S5b6gEX"
      },
      "outputs": [],
      "source": [
        "knowledge = [\n",
        "    \"str is a data type in Python\",\n",
        "    \"programming is hard, but it's worth it\",\n",
        "    \"JavaScript async web request\",\n",
        "    \"Python function call definition\",\n",
        "    \"object-oriented teacher instance\",\n",
        "    \"programming computers hacking learning terminal\",\n",
        "    \"pipenv install pipenv shell\",\n",
        "    \"pytest -x flag to fail fast\",\n",
        "]"
      ]
    },
    {
      "cell_type": "markdown",
      "metadata": {
        "id": "IEPxYaaPv4Zh"
      },
      "source": [
        "**Operator overloading**\n",
        "If you write your own classes, you can define what needs to happen if an operator such as for example `+`,`/` or `<` is used on your class.\n",
        "\n",
        "You can also define what happens when the keyword `in` or built-in functions such as `len()` are you used with your class. This allows for a very elegant way of programming.\n",
        "\n",
        "Each of these operators and built-in functions have an associated method which you can overload. All of these methods start, like `__init__`, with a double underscore.\n"
      ]
    },
    {
      "cell_type": "markdown",
      "metadata": {
        "id": "4gSczxh_xhrg"
      },
      "source": [
        "For example. Let's allow comparison of persons using the '<' and '>' operators. The methods for the opertors are respectively __lt__ and __gt__, both take one argument, the other object to compare to. A person qualifies as older than another if the age value is bigger:"
      ]
    },
    {
      "cell_type": "code",
      "execution_count": 23,
      "metadata": {
        "id": "YgalTgqUx1ts"
      },
      "outputs": [
        {
          "name": "stdout",
          "output_type": "stream",
          "text": [
            "True\n"
          ]
        }
      ],
      "source": [
        "from datetime import date\n",
        "\n",
        "class Person:\n",
        "    whoIs=\"homo sapiens\"\n",
        "    def __init__(self, name, age):\n",
        "        self.name = name\n",
        "        self.age = age\n",
        "\n",
        "    def __lt__(self, other):\n",
        "        return self.age < other.age\n",
        "\n",
        "    def __gt__(self, other):\n",
        "        return self.age > other.age\n",
        "\n",
        "instructor1 = Instructor(\"Hanna\",30)\n",
        "instructor2 = Instructor(\"Franco\",20)\n",
        "print(instructor1 > instructor2)"
      ]
    },
    {
      "cell_type": "markdown",
      "metadata": {
        "id": "gDkRtQ4fyaX_"
      },
      "source": [
        "You may not yet see much use in this, but consider for example the built-in function sorted().\n",
        "\n",
        "Having such methods defined now means we can sort our persons.\n",
        "\n",
        "And because we defined the methods __lt__ and __gt__ based on time. It will automatically sort them on time, from old to young."
      ]
    },
    {
      "cell_type": "markdown",
      "metadata": {
        "id": "va6gzcy67z-X"
      },
      "source": []
    },
    {
      "cell_type": "code",
      "execution_count": 24,
      "metadata": {
        "id": "fmx0OxiuyhAx"
      },
      "outputs": [
        {
          "name": "stdout",
          "output_type": "stream",
          "text": [
            "Franco\n",
            "Hanna\n"
          ]
        }
      ],
      "source": [
        "CSdepartment = [instructor2,instructor1]\n",
        "\n",
        "for instructor in sorted(CSdepartment):\n",
        "    print(instructor.name)"
      ]
    },
    {
      "cell_type": "markdown",
      "metadata": {
        "id": "9Jp5Bi4j7zUM"
      },
      "source": [
        "Remember the in keyword? Used checking items in lists and keys in dictionaries?"
      ]
    },
    {
      "cell_type": "code",
      "execution_count": 25,
      "metadata": {
        "id": "W7XhgA1l71Sh"
      },
      "outputs": [
        {
          "name": "stdout",
          "output_type": "stream",
          "text": [
            "False\n"
          ]
        }
      ],
      "source": [
        "instructors = ['Hanna','Franco']\n",
        "print('hanna' in instructors)"
      ]
    },
    {
      "cell_type": "markdown",
      "metadata": {
        "id": "tfkWsEzF8EKu"
      },
      "source": [
        "Overloading this operator is done using the __contains__ method. It takes as extra argument the item that is being searched for ('hanna' in the above example)."
      ]
    },
    {
      "cell_type": "markdown",
      "metadata": {
        "id": "ceNPL0jO8JNa"
      },
      "source": [
        "**Exercise 2:**\n",
        "\n",
        "For Instructor, let's implement support for the *in* operator and have it check whether a certain element is in the knowledge list."
      ]
    },
    {
      "cell_type": "code",
      "execution_count": null,
      "metadata": {},
      "outputs": [],
      "source": [
        "class Instructor (Person):\n",
        "    #your code is here...\n",
        "\n",
        "    def __contains__(self, skill):\n",
        "        #Implement the method"
      ]
    },
    {
      "cell_type": "markdown",
      "metadata": {
        "id": "0bfQTdIK8-El"
      },
      "source": [
        "**Iteration over an object**\n",
        "Remember how we can iterate over lists and dictionaries using a for loop?\n"
      ]
    },
    {
      "cell_type": "code",
      "execution_count": null,
      "metadata": {
        "colab": {
          "base_uri": "https://localhost:8080/"
        },
        "id": "VVamcZH79FXn",
        "outputId": "ae166629-a655-4374-ca82-887f94771bc1"
      },
      "outputs": [
        {
          "name": "stdout",
          "output_type": "stream",
          "text": [
            "Hanna\n",
            "Franco\n"
          ]
        }
      ],
      "source": [
        "instructors = ['Hanna','Franco']\n",
        "for instructor in instructors:\n",
        "    print(instructor)"
      ]
    },
    {
      "cell_type": "markdown",
      "metadata": {
        "id": "u3am-bFv9dyi"
      },
      "source": [
        "We can do the same for our own object. We can make them support iteration.\n",
        "\n",
        "This is done by overloading the __iter__ method. It takes no extra arguments and should be a generator. Which if you recall means that you should use yield instead of return.\n",
        "\n",
        "Consider the following class Person, if we iterate over an instance of that class, we want to iterate over all hobbies. To make it more fun, let's iterate in chronologically sorted order:"
      ]
    },
    {
      "cell_type": "code",
      "execution_count": 27,
      "metadata": {
        "id": "noo4_hQF9uC7"
      },
      "outputs": [],
      "source": [
        "class Person:\n",
        "    whoIs=\"homo sapiens\"\n",
        "    def __init__(self, name, age):\n",
        "        self.name = name\n",
        "        self.age = age\n",
        "        self.hobbies=[]\n",
        "\n",
        "    def append(self, hobby):\n",
        "      self.hobbies.append(hobby)\n",
        "\n",
        "    def __iter__(self):\n",
        "        for hobby in sorted(self.hobbies):\n",
        "            yield hobby"
      ]
    },
    {
      "cell_type": "markdown",
      "metadata": {
        "id": "MafBaHzh-f9v"
      },
      "source": [
        "**Exercise 3:**\n",
        "\n",
        "The method __len__ is invoked when the built-in function len() is used. We want it to return the number of skills a student has."
      ]
    },
    {
      "cell_type": "markdown",
      "metadata": {
        "id": "llFMmf39wStz"
      },
      "source": [
        "https://github.com/BenedictusAryo/OOP_Python/tree/master\n",
        "\n",
        "https://docs.python.org/3.8/\n",
        "\n",
        "https://docs.python.org/3/tutorial/classes.html#inheritance\n",
        "\n",
        "https://realpython.com/operator-function-overloading/\n",
        "\n",
        "https://realpython.com/inheritance-composition-python/\n"
      ]
    },
    {
      "cell_type": "markdown",
      "metadata": {},
      "source": []
    },
    {
      "cell_type": "markdown",
      "metadata": {},
      "source": [
        "## Working with The JSON Data Format"
      ]
    },
    {
      "cell_type": "markdown",
      "metadata": {},
      "source": [
        "A lot of data in the real world is naturally hierarchical. The JavaScript Object Notation, or **JSON**, data format is a popular way to represent hierarchical data. Despite its name, its application extends far beyond JavaScript, the language for which it was originally designed."
      ]
    },
    {
      "cell_type": "markdown",
      "metadata": {},
      "source": [
        "Let's imagine that we need to summerize relationships between various characters in the Game of Thrones.\n",
        "\n",
        "We have *game-of-thrones-characters-groups.json* dataset that captures data about character relationships."
      ]
    },
    {
      "cell_type": "code",
      "execution_count": 1,
      "metadata": {},
      "outputs": [],
      "source": [
        "file_name = \"data/game-of-thrones-characters-groups.json\""
      ]
    },
    {
      "cell_type": "markdown",
      "metadata": {},
      "source": [
        "But first let's will  all the JSON files inside the main Directory and any sub-Folder:"
      ]
    },
    {
      "cell_type": "code",
      "execution_count": 2,
      "metadata": {},
      "outputs": [],
      "source": [
        "import json\n",
        "import io\n",
        "import os"
      ]
    },
    {
      "cell_type": "code",
      "execution_count": 3,
      "metadata": {},
      "outputs": [],
      "source": [
        "path=\"data\""
      ]
    },
    {
      "cell_type": "code",
      "execution_count": 4,
      "metadata": {},
      "outputs": [
        {
          "name": "stdout",
          "output_type": "stream",
          "text": [
            "Number of JSON files ready to be loaded: 1\n"
          ]
        }
      ],
      "source": [
        "json_files = [os.path.join(root, name) \n",
        "              for root, dirs, files in os.walk(path) \n",
        "              for name in files \n",
        "              if name.endswith((\".json\"))] #If we needed to read several files extensions: if name.endswith((\".ext1\", \".ext2\"))\n",
        "\n",
        "print('Number of JSON files ready to be loaded: ' + str(len(json_files)))"
      ]
    },
    {
      "cell_type": "code",
      "execution_count": 5,
      "metadata": {},
      "outputs": [
        {
          "data": {
            "text/plain": [
              "['data\\\\game-of-thrones-characters-groups.json']"
            ]
          },
          "execution_count": 5,
          "metadata": {},
          "output_type": "execute_result"
        }
      ],
      "source": [
        "json_files"
      ]
    },
    {
      "cell_type": "code",
      "execution_count": 10,
      "metadata": {},
      "outputs": [
        {
          "name": "stdout",
          "output_type": "stream",
          "text": [
            "Path to the first file: data\\game-of-thrones-characters-groups.json\n"
          ]
        }
      ],
      "source": [
        "print('Path to the first file: '+json_files[0])"
      ]
    },
    {
      "cell_type": "code",
      "execution_count": 6,
      "metadata": {},
      "outputs": [],
      "source": [
        "#Open the file using the name of the json file witn open() function\n",
        "#Read the json file using load() and put the json data into a variable.\n",
        "with open(json_files[0]) as f:\n",
        "   json_data = json.load(f)"
      ]
    },
    {
      "cell_type": "code",
      "execution_count": 7,
      "metadata": {},
      "outputs": [
        {
          "data": {
            "text/plain": [
              "{'groups': [{'name': 'Stark',\n",
              "   'characters': ['Arya Stark',\n",
              "    'Benjen Stark',\n",
              "    'Bran Stark',\n",
              "    'Catelyn Stark',\n",
              "    'Eddard Stark',\n",
              "    'Ghost',\n",
              "    'Grey Wind',\n",
              "    'Jon Snow',\n",
              "    'Lady',\n",
              "    'Nymeria',\n",
              "    'Rickon Stark',\n",
              "    'Robb Stark',\n",
              "    'Sansa Stark',\n",
              "    'Shaggydog',\n",
              "    'Summer']},\n",
              "  {'name': 'Targaryen',\n",
              "   'characters': ['Daenerys Targaryen',\n",
              "    'Drogon',\n",
              "    'Rhaegal',\n",
              "    'Viserion',\n",
              "    'Viserys Targaryen']},\n",
              "  {'name': 'Baratheon',\n",
              "   'characters': ['Joffrey Baratheon',\n",
              "    'Myrcella Baratheon',\n",
              "    'Renly Baratheon',\n",
              "    'Robert Baratheon',\n",
              "    'Selyse Baratheon',\n",
              "    'Shireen Baratheon',\n",
              "    'Stannis Baratheon',\n",
              "    'Tommen Baratheon',\n",
              "    'Gendry']},\n",
              "  {'name': 'Lannister',\n",
              "   'characters': ['Cersei Lannister',\n",
              "    'Jaime Lannister',\n",
              "    'Kevan Lannister',\n",
              "    'Lancel Lannister',\n",
              "    'Tyrion Lannister',\n",
              "    'Tywin Lannister']},\n",
              "  {'name': \"Night's Watch\",\n",
              "   'characters': ['Alliser Thorne',\n",
              "    'Eddison Tollett',\n",
              "    'Grenn',\n",
              "    'Jeor Mormont',\n",
              "    'Karl Tanner',\n",
              "    'Maester Aemon',\n",
              "    'Olly',\n",
              "    'Othell Yarwyck',\n",
              "    'Pypar',\n",
              "    'Qhorin Halfhand',\n",
              "    'Rast',\n",
              "    'Samwell Tarly',\n",
              "    'Yoren']},\n",
              "  {'name': 'Dothraki',\n",
              "   'characters': ['Doreah', 'Irri', 'Khal Drogo', 'Rakharo', 'Qhono']},\n",
              "  {'name': 'Greyjoy',\n",
              "   'characters': ['Balon Greyjoy',\n",
              "    'Euron Greyjoy',\n",
              "    'Theon Greyjoy',\n",
              "    'Yara Greyjoy']},\n",
              "  {'name': 'Tyrell',\n",
              "   'characters': ['Loras Tyrell',\n",
              "    'Mace Tyrell',\n",
              "    'Margaery Tyrell',\n",
              "    'Olenna Tyrell']},\n",
              "  {'name': 'Wildlings',\n",
              "   'characters': ['Baby Sam',\n",
              "    'Craster',\n",
              "    'Gilly',\n",
              "    'Mag the Mighty',\n",
              "    'Mance Rayder',\n",
              "    'Osha',\n",
              "    'Rattleshirt',\n",
              "    'Thenn Warg',\n",
              "    'Tormund Giantsbane',\n",
              "    'Wun Wun',\n",
              "    'Ygritte']},\n",
              "  {'name': 'Martell',\n",
              "   'characters': ['Doran Martell',\n",
              "    'Ellaria Sand',\n",
              "    'Nymeria Sand',\n",
              "    'Obara Sand',\n",
              "    'Oberyn Martell',\n",
              "    'Trystane Martell',\n",
              "    'Tyene Sand']},\n",
              "  {'name': 'Frey',\n",
              "   'characters': ['Black Walder Rivers', 'Lothar Frey', 'Walder Frey']},\n",
              "  {'name': 'Tully', 'characters': ['Brynden Tully', 'Edmure Tully']},\n",
              "  {'name': 'White Walkers',\n",
              "   'characters': ['Mag the Mighty Wight',\n",
              "    'The Night King',\n",
              "    'White Walker',\n",
              "    'Wight Wildling Girl',\n",
              "    'Wun Wun Wight']},\n",
              "  {'name': 'Include',\n",
              "   'characters': ['Archmaester Ebrose',\n",
              "    'Barristan Selmy',\n",
              "    'Beric Dondarrion',\n",
              "    'Brienne of Tarth',\n",
              "    'Bronn',\n",
              "    'Daario Naharis',\n",
              "    'Davos Seaworth',\n",
              "    'Gendry',\n",
              "    'Grand Maester Pycelle',\n",
              "    'Greatjon Umber',\n",
              "    'Gregor Clegane',\n",
              "    'Greizhen mo Ullhor',\n",
              "    'Grey Worm',\n",
              "    'Hallyne',\n",
              "    'High Sparrow',\n",
              "    'Hizdahr zo Loraq',\n",
              "    'Hodor',\n",
              "    'Hot Pie',\n",
              "    'Janos Slynt',\n",
              "    \"Jaqen H'ghar\",\n",
              "    'Jojen Reed',\n",
              "    'Jorah Mormont',\n",
              "    'Jory Cassel',\n",
              "    'Kraznys mo Nakloz',\n",
              "    'Lady Crane',\n",
              "    'Leaf',\n",
              "    'Locke',\n",
              "    'Lommy Greenhands',\n",
              "    'Lord Varys',\n",
              "    'Lyanna Mormont',\n",
              "    'Lysa Arryn',\n",
              "    'Maester Luwin',\n",
              "    'Matthos Seaworth',\n",
              "    'Meera Reed',\n",
              "    'Melisandre',\n",
              "    'Mirri Maz Duur',\n",
              "    'Missandei',\n",
              "    'Olyvar',\n",
              "    'Petyr Baelish',\n",
              "    'Podrick Payne',\n",
              "    'Prendahl na Ghezn',\n",
              "    'Pyat Pree',\n",
              "    'Qyburn',\n",
              "    'Ramsay Snow',\n",
              "    'Razdal mo Eraz',\n",
              "    'Rickard Karstark',\n",
              "    'Robin Arryn',\n",
              "    'Rodrik Cassel',\n",
              "    'Roose Bolton',\n",
              "    'Ros',\n",
              "    'Salladhor Saan',\n",
              "    'Sandor Clegane',\n",
              "    'Septa Mordane',\n",
              "    'Septa Unella',\n",
              "    'Shae',\n",
              "    'Silk King',\n",
              "    'Smalljon Umber',\n",
              "    'Syrio Forel',\n",
              "    'Talisa Maegyr',\n",
              "    'The Waif',\n",
              "    'Thoros of Myr',\n",
              "    'Three-Eyed Raven',\n",
              "    'Xaro Xhoan Daxos',\n",
              "    'Yezzan zo Qaggaz',\n",
              "    'Yohn Royce']}]}"
            ]
          },
          "execution_count": 7,
          "metadata": {},
          "output_type": "execute_result"
        }
      ],
      "source": [
        "json_data"
      ]
    },
    {
      "cell_type": "markdown",
      "metadata": {},
      "source": [
        "A \"variable\" with multiple values is called a repeated field. A repeated field might itself contain a **repeated field** (e.g., we have sone groups: Stark, Targaryen, etc.; each group has multiple characters), creating a hierarchy of variables. Repeated fields are represented as lists or arrays in JSON."
      ]
    },
    {
      "cell_type": "code",
      "execution_count": 8,
      "metadata": {},
      "outputs": [
        {
          "data": {
            "text/plain": [
              "dict_keys(['groups'])"
            ]
          },
          "execution_count": 8,
          "metadata": {},
          "output_type": "execute_result"
        }
      ],
      "source": [
        "json_data.keys() #the top-level variable "
      ]
    },
    {
      "cell_type": "markdown",
      "metadata": {},
      "source": [
        "## Task2: infographic of relationships between  characters in the Game of Thrones"
      ]
    },
    {
      "cell_type": "markdown",
      "metadata": {},
      "source": [
        "Create **Dynasty Class** by using the template below:"
      ]
    },
    {
      "cell_type": "code",
      "execution_count": null,
      "metadata": {},
      "outputs": [],
      "source": [
        "class Dynasty:\n",
        "    def __init__(self,name):\n",
        "        self._name=name # House name, for.ex.\"Martell\"\n",
        "        self.characters=[] # Family members (\"Doran Martell\",\"Ellaria Sand\",\"Nymeria Sand\",...)\n",
        "\n",
        "\n",
        "    @property\n",
        "    def name(self): # getter for the private instance attribute _name\n",
        "        # your code here\n",
        "       \n",
        "\n",
        "    @name.setter\n",
        "    def name(self, value):\n",
        "        # your code here - should include Validation: Ensure value is not an empty string\n",
        "      \n",
        "\n",
        "    def append(self, ch): # to append character to the House (during reading data from JSON-file)\n",
        "        # your code here \n",
        "        #this code will check if character is an instance\n",
        "         #of the String class. If not, an exception will be raised\n",
        "\n",
        "\n",
        "    def __iter__(self): # to loop throw the list of characters via IN operator (for ex. for person in house: ....)\n",
        "         # your code here \n",
        "\n",
        "    def __contains__(self, ch): # to check if the character belongs to the house (for ex., if person in house ...)\n",
        "        # your code here \n",
        "        # return True or False\n",
        "\n",
        "\n",
        "    def __str__(self): # to print like print(house) - > displat the house's name\n",
        "        # your code here \n",
        "    \n",
        "    def getStrength(self): # return N of family members in this house (int)\n",
        "        # your code here "
      ]
    },
    {
      "cell_type": "markdown",
      "metadata": {},
      "source": [
        "Use the code below to check that your Dynasty class meets all requirement"
      ]
    },
    {
      "cell_type": "code",
      "execution_count": 10,
      "metadata": {},
      "outputs": [
        {
          "name": "stdout",
          "output_type": "stream",
          "text": [
            "This is a House of Stark!\n",
            "Our members:\n",
            "Arya Stark\n",
            "Benjen Stark\n",
            "Bran Stark\n",
            "Catelyn Stark\n",
            "Eddard Stark\n",
            "Ghost\n",
            "Grey Wind\n",
            "Jon Snow\n",
            "Lady\n",
            "Nymeria\n",
            "Rickon Stark\n",
            "Robb Stark\n",
            "Sansa Stark\n",
            "Shaggydog\n",
            "Summer\n",
            "We have 15 family members!!!\n",
            "This is a House of Targaryen!\n",
            "Our members:\n",
            "Daenerys Targaryen\n",
            "Drogon\n",
            "Rhaegal\n",
            "Viserion\n",
            "Viserys Targaryen\n",
            "We have 5 family members!!!\n",
            "This is a House of Baratheon!\n",
            "Our members:\n",
            "Joffrey Baratheon\n",
            "Myrcella Baratheon\n",
            "Renly Baratheon\n",
            "Robert Baratheon\n",
            "Selyse Baratheon\n",
            "Shireen Baratheon\n",
            "Stannis Baratheon\n",
            "Tommen Baratheon\n",
            "Gendry\n",
            "We have 9 family members!!!\n",
            "This is a House of Lannister!\n",
            "Our members:\n",
            "Cersei Lannister\n",
            "Jaime Lannister\n",
            "Kevan Lannister\n",
            "Lancel Lannister\n",
            "Tyrion Lannister\n",
            "Tywin Lannister\n",
            "We have 6 family members!!!\n",
            "This is a House of Night's Watch!\n",
            "Our members:\n",
            "Alliser Thorne\n",
            "Eddison Tollett\n",
            "Grenn\n",
            "Jeor Mormont\n",
            "Karl Tanner\n",
            "Maester Aemon\n",
            "Olly\n",
            "Othell Yarwyck\n",
            "Pypar\n",
            "Qhorin Halfhand\n",
            "Rast\n",
            "Samwell Tarly\n",
            "Yoren\n",
            "We have 13 family members!!!\n",
            "This is a House of Dothraki!\n",
            "Our members:\n",
            "Doreah\n",
            "Irri\n",
            "Khal Drogo\n",
            "Rakharo\n",
            "Qhono\n",
            "We have 5 family members!!!\n",
            "This is a House of Greyjoy!\n",
            "Our members:\n",
            "Balon Greyjoy\n",
            "Euron Greyjoy\n",
            "Theon Greyjoy\n",
            "Yara Greyjoy\n",
            "We have 4 family members!!!\n",
            "This is a House of Tyrell!\n",
            "Our members:\n",
            "Loras Tyrell\n",
            "Mace Tyrell\n",
            "Margaery Tyrell\n",
            "Olenna Tyrell\n",
            "We have 4 family members!!!\n",
            "This is a House of Wildlings!\n",
            "Our members:\n",
            "Baby Sam\n",
            "Craster\n",
            "Gilly\n",
            "Mag the Mighty\n",
            "Mance Rayder\n",
            "Osha\n",
            "Rattleshirt\n",
            "Thenn Warg\n",
            "Tormund Giantsbane\n",
            "Wun Wun\n",
            "Ygritte\n",
            "We have 11 family members!!!\n",
            "This is a House of Martell!\n",
            "Our members:\n",
            "Doran Martell\n",
            "Ellaria Sand\n",
            "Nymeria Sand\n",
            "Obara Sand\n",
            "Oberyn Martell\n",
            "Trystane Martell\n",
            "Tyene Sand\n",
            "We have 7 family members!!!\n",
            "This is a House of Frey!\n",
            "Our members:\n",
            "Black Walder Rivers\n",
            "Lothar Frey\n",
            "Walder Frey\n",
            "We have 3 family members!!!\n",
            "This is a House of Tully!\n",
            "Our members:\n",
            "Brynden Tully\n",
            "Edmure Tully\n",
            "We have 2 family members!!!\n",
            "This is a House of White Walkers!\n",
            "Our members:\n",
            "Mag the Mighty Wight\n",
            "The Night King\n",
            "White Walker\n",
            "Wight Wildling Girl\n",
            "Wun Wun Wight\n",
            "We have 5 family members!!!\n",
            "This is a House of Include!\n",
            "Our members:\n",
            "Archmaester Ebrose\n",
            "Barristan Selmy\n",
            "Beric Dondarrion\n",
            "Brienne of Tarth\n",
            "Bronn\n",
            "Daario Naharis\n",
            "Davos Seaworth\n",
            "Gendry\n",
            "Grand Maester Pycelle\n",
            "Greatjon Umber\n",
            "Gregor Clegane\n",
            "Greizhen mo Ullhor\n",
            "Grey Worm\n",
            "Hallyne\n",
            "High Sparrow\n",
            "Hizdahr zo Loraq\n",
            "Hodor\n",
            "Hot Pie\n",
            "Janos Slynt\n",
            "Jaqen H'ghar\n",
            "Jojen Reed\n",
            "Jorah Mormont\n",
            "Jory Cassel\n",
            "Kraznys mo Nakloz\n",
            "Lady Crane\n",
            "Leaf\n",
            "Locke\n",
            "Lommy Greenhands\n",
            "Lord Varys\n",
            "Lyanna Mormont\n",
            "Lysa Arryn\n",
            "Maester Luwin\n",
            "Matthos Seaworth\n",
            "Meera Reed\n",
            "Melisandre\n",
            "Mirri Maz Duur\n",
            "Missandei\n",
            "Olyvar\n",
            "Petyr Baelish\n",
            "Podrick Payne\n",
            "Prendahl na Ghezn\n",
            "Pyat Pree\n",
            "Qyburn\n",
            "Ramsay Snow\n",
            "Razdal mo Eraz\n",
            "Rickard Karstark\n",
            "Robin Arryn\n",
            "Rodrik Cassel\n",
            "Roose Bolton\n",
            "Ros\n",
            "Salladhor Saan\n",
            "Sandor Clegane\n",
            "Septa Mordane\n",
            "Septa Unella\n",
            "Shae\n",
            "Silk King\n",
            "Smalljon Umber\n",
            "Syrio Forel\n",
            "Talisa Maegyr\n",
            "The Waif\n",
            "Thoros of Myr\n",
            "Three-Eyed Raven\n",
            "Xaro Xhoan Daxos\n",
            "Yezzan zo Qaggaz\n",
            "Yohn Royce\n",
            "We have 65 family members!!!\n"
          ]
        }
      ],
      "source": [
        "for data in json_data['groups']:\n",
        "  house=Dynasty(data['name'])\n",
        "  for character in data['characters']:\n",
        "    house.append(character)\n",
        "  print(house)\n",
        "  print(\"Our members:\")\n",
        "  for person in house:\n",
        "    print(person)\n",
        "  print(f\"We have {house.getStrength()} family members!!!\")\n"
      ]
    },
    {
      "cell_type": "markdown",
      "metadata": {},
      "source": [
        "Create **GameOfThronesGraph Class** to store data abot all Houses by using the temlate below:"
      ]
    },
    {
      "cell_type": "code",
      "execution_count": null,
      "metadata": {},
      "outputs": [],
      "source": [
        "class GameOfThronesGraph:\n",
        "    def __init__(self, corpus):\n",
        "        #initialisation of dictionary that will store all houses. They keys are Houses' (Dynasty) names, the values are Dynasty objects.\n",
        "        self.houses = {}\n",
        "        #Load the house corpus\n",
        "        for data_item in corpus:\n",
        "            # your code here \n",
        "\n",
        "\n",
        "    def __iter__(self): # for the case like the following: for house in GameOfThronesHouses:\n",
        "         # your code here \n",
        "            \n",
        "    def __contains__(self, h): #Check if h (house's name) is a key in dict houses - the house is in the graph\n",
        "        # your code here "
      ]
    },
    {
      "cell_type": "code",
      "execution_count": 12,
      "metadata": {},
      "outputs": [],
      "source": [
        "corpusData=json_data['groups']"
      ]
    },
    {
      "cell_type": "code",
      "execution_count": 79,
      "metadata": {},
      "outputs": [],
      "source": [
        "GameOfThronesHouses=GameOfThronesGraph(corpusData)"
      ]
    },
    {
      "cell_type": "code",
      "execution_count": 80,
      "metadata": {},
      "outputs": [
        {
          "name": "stdout",
          "output_type": "stream",
          "text": [
            "This is a House of Stark!\n",
            "This is a House of Targaryen!\n",
            "This is a House of Baratheon!\n",
            "This is a House of Lannister!\n",
            "This is a House of Night's Watch!\n",
            "This is a House of Dothraki!\n",
            "This is a House of Greyjoy!\n",
            "This is a House of Tyrell!\n",
            "This is a House of Wildlings!\n",
            "This is a House of Martell!\n",
            "This is a House of Frey!\n",
            "This is a House of Tully!\n",
            "This is a House of White Walkers!\n",
            "This is a House of Include!\n"
          ]
        }
      ],
      "source": [
        "for house in GameOfThronesHouses:\n",
        "    print(house)"
      ]
    },
    {
      "cell_type": "markdown",
      "metadata": {},
      "source": [
        "Let's add a visualization to show the power level of each dynasty.\n",
        "Run the code below."
      ]
    },
    {
      "cell_type": "code",
      "execution_count": 15,
      "metadata": {},
      "outputs": [
        {
          "name": "stdout",
          "output_type": "stream",
          "text": [
            "This is a House of Stark!\n",
            "Strength: 15\n",
            "This is a House of Targaryen!\n",
            "Strength: 5\n",
            "This is a House of Baratheon!\n",
            "Strength: 9\n",
            "This is a House of Lannister!\n",
            "Strength: 6\n",
            "This is a House of Night's Watch!\n",
            "Strength: 13\n",
            "This is a House of Dothraki!\n",
            "Strength: 5\n",
            "This is a House of Greyjoy!\n",
            "Strength: 4\n",
            "This is a House of Tyrell!\n",
            "Strength: 4\n",
            "This is a House of Wildlings!\n",
            "Strength: 11\n",
            "This is a House of Martell!\n",
            "Strength: 7\n",
            "This is a House of Frey!\n",
            "Strength: 3\n",
            "This is a House of Tully!\n",
            "Strength: 2\n",
            "This is a House of White Walkers!\n",
            "Strength: 5\n",
            "This is a House of Include!\n",
            "Strength: 65\n"
          ]
        }
      ],
      "source": [
        "visualisationData={}\n",
        "legendData=[]\n",
        "for house in GameOfThronesHouses:\n",
        "  print(house)\n",
        "  print(f\"Strength: {house.getStrength()}\")\n",
        "  visualisationData[house.name]=house.getStrength()\n",
        "  legendData.append(house.name)"
      ]
    },
    {
      "cell_type": "code",
      "execution_count": 16,
      "metadata": {},
      "outputs": [
        {
          "data": {
            "text/plain": [
              "{'Stark': 15,\n",
              " 'Targaryen': 5,\n",
              " 'Baratheon': 9,\n",
              " 'Lannister': 6,\n",
              " \"Night's Watch\": 13,\n",
              " 'Dothraki': 5,\n",
              " 'Greyjoy': 4,\n",
              " 'Tyrell': 4,\n",
              " 'Wildlings': 11,\n",
              " 'Martell': 7,\n",
              " 'Frey': 3,\n",
              " 'Tully': 2,\n",
              " 'White Walkers': 5,\n",
              " 'Include': 65}"
            ]
          },
          "execution_count": 16,
          "metadata": {},
          "output_type": "execute_result"
        }
      ],
      "source": [
        "visualisationData"
      ]
    },
    {
      "cell_type": "code",
      "execution_count": 17,
      "metadata": {},
      "outputs": [
        {
          "data": {
            "text/plain": [
              "['Stark',\n",
              " 'Targaryen',\n",
              " 'Baratheon',\n",
              " 'Lannister',\n",
              " \"Night's Watch\",\n",
              " 'Dothraki',\n",
              " 'Greyjoy',\n",
              " 'Tyrell',\n",
              " 'Wildlings',\n",
              " 'Martell',\n",
              " 'Frey',\n",
              " 'Tully',\n",
              " 'White Walkers',\n",
              " 'Include']"
            ]
          },
          "execution_count": 17,
          "metadata": {},
          "output_type": "execute_result"
        }
      ],
      "source": [
        "legendData"
      ]
    },
    {
      "cell_type": "code",
      "execution_count": 18,
      "metadata": {},
      "outputs": [],
      "source": [
        "import pandas as pd\n",
        "import matplotlib.pyplot as plt\n",
        "import seaborn as sns\n",
        "%matplotlib inline"
      ]
    },
    {
      "cell_type": "code",
      "execution_count": 19,
      "metadata": {},
      "outputs": [
        {
          "data": {
            "image/png": "[encoded data removed]",
            "text/plain": [
              "<Figure size 640x480 with 1 Axes>"
            ]
          },
          "metadata": {},
          "output_type": "display_data"
        }
      ],
      "source": [
        "#Configure your x and y values from the dictionary:\n",
        "x= list(visualisationData.keys())\n",
        "y=list(visualisationData.values())\n",
        "\n",
        "#Create the graph = create seaborn barplot\n",
        "ax=sns.barplot(x=x,y=y)\n",
        "\n",
        "#specfiy axis labels\n",
        "ax.legend(legendData)\n",
        "sns.move_legend(ax, \"upper left\", bbox_to_anchor=(1.05, 1))\n",
        "ax.set(xlabel='Houses',\n",
        "       ylabel='Strength (N family members)',\n",
        "       title='Strength of GameOfThronesHouses')\n",
        "\n",
        "plt.xticks(rotation=45)\n",
        "#display barplot\n",
        "plt.show()"
      ]
    },
    {
      "cell_type": "markdown",
      "metadata": {},
      "source": [
        "Now we need to create the graph with a suitable Python library  based on our graph data stored in *GameOfThronesHouses*."
      ]
    },
    {
      "cell_type": "markdown",
      "metadata": {},
      "source": [
        "[NetworkX](https://networkx.org/) is a Python package for the creation, manipulation, and study of the structure, dynamics, and functions of complex networks."
      ]
    },
    {
      "cell_type": "code",
      "execution_count": 81,
      "metadata": {},
      "outputs": [],
      "source": [
        "import networkx as nx"
      ]
    },
    {
      "cell_type": "code",
      "execution_count": null,
      "metadata": {},
      "outputs": [],
      "source": [
        "g = nx.Graph() # graph initialization"
      ]
    },
    {
      "cell_type": "markdown",
      "metadata": {},
      "source": [
        "Add nodes into the Graph (add characters into Game Of Thrones)"
      ]
    },
    {
      "cell_type": "markdown",
      "metadata": {},
      "source": [
        "Let's use *seaborn.color_palette* and create a dictionary to specify different color for different families."
      ]
    },
    {
      "cell_type": "code",
      "execution_count": 83,
      "metadata": {},
      "outputs": [
        {
          "data": {
            "text/html": [
              "<svg  width=\"715\" height=\"55\"><rect x=\"0\" y=\"0\" width=\"55\" height=\"55\" style=\"fill:#f77189;stroke-width:2;stroke:rgb(255,255,255)\"/><rect x=\"55\" y=\"0\" width=\"55\" height=\"55\" style=\"fill:#eb8032;stroke-width:2;stroke:rgb(255,255,255)\"/><rect x=\"110\" y=\"0\" width=\"55\" height=\"55\" style=\"fill:#c19632;stroke-width:2;stroke:rgb(255,255,255)\"/><rect x=\"165\" y=\"0\" width=\"55\" height=\"55\" style=\"fill:#a0a131;stroke-width:2;stroke:rgb(255,255,255)\"/><rect x=\"220\" y=\"0\" width=\"55\" height=\"55\" style=\"fill:#71ac31;stroke-width:2;stroke:rgb(255,255,255)\"/><rect x=\"275\" y=\"0\" width=\"55\" height=\"55\" style=\"fill:#33b16f;stroke-width:2;stroke:rgb(255,255,255)\"/><rect x=\"330\" y=\"0\" width=\"55\" height=\"55\" style=\"fill:#35ae97;stroke-width:2;stroke:rgb(255,255,255)\"/><rect x=\"385\" y=\"0\" width=\"55\" height=\"55\" style=\"fill:#36abb0;stroke-width:2;stroke:rgb(255,255,255)\"/><rect x=\"440\" y=\"0\" width=\"55\" height=\"55\" style=\"fill:#39a8cc;stroke-width:2;stroke:rgb(255,255,255)\"/><rect x=\"495\" y=\"0\" width=\"55\" height=\"55\" style=\"fill:#639df4;stroke-width:2;stroke:rgb(255,255,255)\"/><rect x=\"550\" y=\"0\" width=\"55\" height=\"55\" style=\"fill:#b486f4;stroke-width:2;stroke:rgb(255,255,255)\"/><rect x=\"605\" y=\"0\" width=\"55\" height=\"55\" style=\"fill:#f35cf4;stroke-width:2;stroke:rgb(255,255,255)\"/><rect x=\"660\" y=\"0\" width=\"55\" height=\"55\" style=\"fill:#f668be;stroke-width:2;stroke:rgb(255,255,255)\"/></svg>"
            ],
            "text/plain": [
              "[(0.9677975592919913, 0.44127456009157356, 0.5358103155058701),\n",
              " (0.9218528551477547, 0.500345433264, 0.19606247053399534),\n",
              " (0.756593795426372, 0.58660455674609, 0.19460548454202936),\n",
              " (0.6280838378584804, 0.6317149736053096, 0.19371846323785552),\n",
              " (0.44127702936426016, 0.6747986506725627, 0.19278677787286805),\n",
              " (0.19925855442314272, 0.6935861010390585, 0.43494846713408325),\n",
              " (0.20730980534421067, 0.6820252887361699, 0.5931178995944008),\n",
              " (0.213603436221035, 0.6724447149771248, 0.6900417229996091),\n",
              " (0.2218708221705632, 0.6590814541823624, 0.7990680761766646),\n",
              " (0.38670894369284947, 0.6148978276981065, 0.9585912355668605),\n",
              " (0.7049741506310939, 0.5248938690186019, 0.9581527270311664),\n",
              " (0.9538763597142671, 0.3594595647605631, 0.95756585161213),\n",
              " (0.9637107389395935, 0.4095260281088575, 0.7436447221919831)]"
            ]
          },
          "execution_count": 83,
          "metadata": {},
          "output_type": "execute_result"
        }
      ],
      "source": [
        "import seaborn as sns\n",
        "\n",
        "N_houses=0\n",
        "colorKeys=[]\n",
        "for house in GameOfThronesHouses:\n",
        "    if house.name!=\"Include\":\n",
        "        N_houses+=1\n",
        "        colorKeys.append(house.name)\n",
        "sns.color_palette(\"husl\", N_houses) # N_houses colors"
      ]
    },
    {
      "cell_type": "code",
      "execution_count": 27,
      "metadata": {},
      "outputs": [
        {
          "data": {
            "text/plain": [
              "[(0.9677975592919913, 0.44127456009157356, 0.5358103155058701),\n",
              " (0.9218528551477547, 0.500345433264, 0.19606247053399534),\n",
              " (0.756593795426372, 0.58660455674609, 0.19460548454202936),\n",
              " (0.6280838378584804, 0.6317149736053096, 0.19371846323785552),\n",
              " (0.44127702936426016, 0.6747986506725627, 0.19278677787286805),\n",
              " (0.19925855442314272, 0.6935861010390585, 0.43494846713408325),\n",
              " (0.20730980534421067, 0.6820252887361699, 0.5931178995944008),\n",
              " (0.213603436221035, 0.6724447149771248, 0.6900417229996091),\n",
              " (0.2218708221705632, 0.6590814541823624, 0.7990680761766646),\n",
              " (0.38670894369284947, 0.6148978276981065, 0.9585912355668605),\n",
              " (0.7049741506310939, 0.5248938690186019, 0.9581527270311664),\n",
              " (0.9538763597142671, 0.3594595647605631, 0.95756585161213),\n",
              " (0.9637107389395935, 0.4095260281088575, 0.7436447221919831)]"
            ]
          },
          "execution_count": 27,
          "metadata": {},
          "output_type": "execute_result"
        }
      ],
      "source": [
        "list(sns.color_palette(\"husl\", N_houses))"
      ]
    },
    {
      "cell_type": "code",
      "execution_count": 84,
      "metadata": {},
      "outputs": [
        {
          "data": {
            "text/plain": [
              "['Stark',\n",
              " 'Targaryen',\n",
              " 'Baratheon',\n",
              " 'Lannister',\n",
              " \"Night's Watch\",\n",
              " 'Dothraki',\n",
              " 'Greyjoy',\n",
              " 'Tyrell',\n",
              " 'Wildlings',\n",
              " 'Martell',\n",
              " 'Frey',\n",
              " 'Tully',\n",
              " 'White Walkers']"
            ]
          },
          "execution_count": 84,
          "metadata": {},
          "output_type": "execute_result"
        }
      ],
      "source": [
        "colorKeys"
      ]
    },
    {
      "cell_type": "code",
      "execution_count": 85,
      "metadata": {},
      "outputs": [
        {
          "data": {
            "text/plain": [
              "{'Stark': (246, 112, 136),\n",
              " 'Targaryen': (235, 127, 49),\n",
              " 'Baratheon': (192, 149, 49),\n",
              " 'Lannister': (160, 161, 49),\n",
              " \"Night's Watch\": (112, 172, 49),\n",
              " 'Dothraki': (50, 176, 110),\n",
              " 'Greyjoy': (52, 173, 151),\n",
              " 'Tyrell': (54, 171, 175),\n",
              " 'Wildlings': (56, 168, 203),\n",
              " 'Martell': (98, 156, 244),\n",
              " 'Frey': (179, 133, 244),\n",
              " 'Tully': (243, 91, 244),\n",
              " 'White Walkers': (245, 104, 189)}"
            ]
          },
          "execution_count": 85,
          "metadata": {},
          "output_type": "execute_result"
        }
      ],
      "source": [
        "nodeColors=dict(zip(colorKeys, [tuple(int(c*255) for c in cs) for cs in sns.color_palette(\"husl\", N_houses)]))\n",
        "nodeColors"
      ]
    },
    {
      "cell_type": "code",
      "execution_count": null,
      "metadata": {},
      "outputs": [],
      "source": [
        "#this doesn't work for us because Pyvis requires strings (hexadecimal) as values for the color attribute, not RGB tuples. \n",
        "# We need to convert RGB tuples to hexadecimal strings later\n",
        "#for house in GameOfThronesHouses:\n",
        "    #if house.name!=\"Include\":\n",
        "        #g.add_node(house.name, size=house.getStrength(), color=nodeColors[house.name])\n",
        "    "
      ]
    },
    {
      "cell_type": "markdown",
      "metadata": {},
      "source": [
        "Add nodes to the graph (via *g.add_node()*) with their names and sizes only."
      ]
    },
    {
      "cell_type": "markdown",
      "metadata": {},
      "source": [
        "First we need to add main nodes - houses, and add other nodes - family members after that."
      ]
    },
    {
      "cell_type": "code",
      "execution_count": null,
      "metadata": {},
      "outputs": [],
      "source": [
        "for house in GameOfThronesHouses:\n",
        "    if house.name!=\"Include\":\n",
        "        # add the house's name as a node to the graph g (houses's strength values is used as a node's size)\n",
        "        #your code here\n",
        "        "
      ]
    },
    {
      "cell_type": "code",
      "execution_count": null,
      "metadata": {},
      "outputs": [
        {
          "name": "stdout",
          "output_type": "stream",
          "text": [
            "Node: Stark, Attributes: {'size': 15}\n",
            "Node: Targaryen, Attributes: {'size': 5}\n",
            "Node: Baratheon, Attributes: {'size': 9}\n",
            "Node: Lannister, Attributes: {'size': 6}\n",
            "Node: Night's Watch, Attributes: {'size': 13}\n",
            "Node: Dothraki, Attributes: {'size': 5}\n",
            "Node: Greyjoy, Attributes: {'size': 4}\n",
            "Node: Tyrell, Attributes: {'size': 4}\n",
            "Node: Wildlings, Attributes: {'size': 11}\n",
            "Node: Martell, Attributes: {'size': 7}\n",
            "Node: Frey, Attributes: {'size': 3}\n",
            "Node: Tully, Attributes: {'size': 2}\n",
            "Node: White Walkers, Attributes: {'size': 5}\n"
          ]
        }
      ],
      "source": [
        "for node, attributes in g.nodes(data=True): # run this code to check your code above\n",
        "    print(f\"Node: {node}, Attributes: {attributes}\")"
      ]
    },
    {
      "cell_type": "markdown",
      "metadata": {},
      "source": [
        "Now we can add nodes - family members from each house"
      ]
    },
    {
      "cell_type": "code",
      "execution_count": null,
      "metadata": {},
      "outputs": [],
      "source": [
        "for house in GameOfThronesHouses:\n",
        "    if house.name!=\"Include\":\n",
        "        # add each character as a node to the graph g \n",
        "        #your code here\n",
        "        "
      ]
    },
    {
      "cell_type": "code",
      "execution_count": null,
      "metadata": {},
      "outputs": [
        {
          "name": "stdout",
          "output_type": "stream",
          "text": [
            "Node: Stark, Attributes: {'size': 15}\n",
            "Node: Targaryen, Attributes: {'size': 5}\n",
            "Node: Baratheon, Attributes: {'size': 9}\n",
            "Node: Lannister, Attributes: {'size': 6}\n",
            "Node: Night's Watch, Attributes: {'size': 13}\n",
            "Node: Dothraki, Attributes: {'size': 5}\n",
            "Node: Greyjoy, Attributes: {'size': 4}\n",
            "Node: Tyrell, Attributes: {'size': 4}\n",
            "Node: Wildlings, Attributes: {'size': 11}\n",
            "Node: Martell, Attributes: {'size': 7}\n",
            "Node: Frey, Attributes: {'size': 3}\n",
            "Node: Tully, Attributes: {'size': 2}\n",
            "Node: White Walkers, Attributes: {'size': 5}\n",
            "Node: Arya Stark, Attributes: {}\n",
            "Node: Benjen Stark, Attributes: {}\n",
            "Node: Bran Stark, Attributes: {}\n",
            "Node: Catelyn Stark, Attributes: {}\n",
            "Node: Eddard Stark, Attributes: {}\n",
            "Node: Ghost, Attributes: {}\n",
            "Node: Grey Wind, Attributes: {}\n",
            "Node: Jon Snow, Attributes: {}\n",
            "Node: Lady, Attributes: {}\n",
            "Node: Nymeria, Attributes: {}\n",
            "Node: Rickon Stark, Attributes: {}\n",
            "Node: Robb Stark, Attributes: {}\n",
            "Node: Sansa Stark, Attributes: {}\n",
            "Node: Shaggydog, Attributes: {}\n",
            "Node: Summer, Attributes: {}\n",
            "Node: Daenerys Targaryen, Attributes: {}\n",
            "Node: Drogon, Attributes: {}\n",
            "Node: Rhaegal, Attributes: {}\n",
            "Node: Viserion, Attributes: {}\n",
            "Node: Viserys Targaryen, Attributes: {}\n",
            "Node: Joffrey Baratheon, Attributes: {}\n",
            "Node: Myrcella Baratheon, Attributes: {}\n",
            "Node: Renly Baratheon, Attributes: {}\n",
            "Node: Robert Baratheon, Attributes: {}\n",
            "Node: Selyse Baratheon, Attributes: {}\n",
            "Node: Shireen Baratheon, Attributes: {}\n",
            "Node: Stannis Baratheon, Attributes: {}\n",
            "Node: Tommen Baratheon, Attributes: {}\n",
            "Node: Gendry, Attributes: {}\n",
            "Node: Cersei Lannister, Attributes: {}\n",
            "Node: Jaime Lannister, Attributes: {}\n",
            "Node: Kevan Lannister, Attributes: {}\n",
            "Node: Lancel Lannister, Attributes: {}\n",
            "Node: Tyrion Lannister, Attributes: {}\n",
            "Node: Tywin Lannister, Attributes: {}\n",
            "Node: Alliser Thorne, Attributes: {}\n",
            "Node: Eddison Tollett, Attributes: {}\n",
            "Node: Grenn, Attributes: {}\n",
            "Node: Jeor Mormont, Attributes: {}\n",
            "Node: Karl Tanner, Attributes: {}\n",
            "Node: Maester Aemon, Attributes: {}\n",
            "Node: Olly, Attributes: {}\n",
            "Node: Othell Yarwyck, Attributes: {}\n",
            "Node: Pypar, Attributes: {}\n",
            "Node: Qhorin Halfhand, Attributes: {}\n",
            "Node: Rast, Attributes: {}\n",
            "Node: Samwell Tarly, Attributes: {}\n",
            "Node: Yoren, Attributes: {}\n",
            "Node: Doreah, Attributes: {}\n",
            "Node: Irri, Attributes: {}\n",
            "Node: Khal Drogo, Attributes: {}\n",
            "Node: Rakharo, Attributes: {}\n",
            "Node: Qhono, Attributes: {}\n",
            "Node: Balon Greyjoy, Attributes: {}\n",
            "Node: Euron Greyjoy, Attributes: {}\n",
            "Node: Theon Greyjoy, Attributes: {}\n",
            "Node: Yara Greyjoy, Attributes: {}\n",
            "Node: Loras Tyrell, Attributes: {}\n",
            "Node: Mace Tyrell, Attributes: {}\n",
            "Node: Margaery Tyrell, Attributes: {}\n",
            "Node: Olenna Tyrell, Attributes: {}\n",
            "Node: Baby Sam, Attributes: {}\n",
            "Node: Craster, Attributes: {}\n",
            "Node: Gilly, Attributes: {}\n",
            "Node: Mag the Mighty, Attributes: {}\n",
            "Node: Mance Rayder, Attributes: {}\n",
            "Node: Osha, Attributes: {}\n",
            "Node: Rattleshirt, Attributes: {}\n",
            "Node: Thenn Warg, Attributes: {}\n",
            "Node: Tormund Giantsbane, Attributes: {}\n",
            "Node: Wun Wun, Attributes: {}\n",
            "Node: Ygritte, Attributes: {}\n",
            "Node: Doran Martell, Attributes: {}\n",
            "Node: Ellaria Sand, Attributes: {}\n",
            "Node: Nymeria Sand, Attributes: {}\n",
            "Node: Obara Sand, Attributes: {}\n",
            "Node: Oberyn Martell, Attributes: {}\n",
            "Node: Trystane Martell, Attributes: {}\n",
            "Node: Tyene Sand, Attributes: {}\n",
            "Node: Black Walder Rivers, Attributes: {}\n",
            "Node: Lothar Frey, Attributes: {}\n",
            "Node: Walder Frey, Attributes: {}\n",
            "Node: Brynden Tully, Attributes: {}\n",
            "Node: Edmure Tully, Attributes: {}\n",
            "Node: Mag the Mighty Wight, Attributes: {}\n",
            "Node: The Night King, Attributes: {}\n",
            "Node: White Walker, Attributes: {}\n",
            "Node: Wight Wildling Girl, Attributes: {}\n",
            "Node: Wun Wun Wight, Attributes: {}\n"
          ]
        }
      ],
      "source": [
        "for node, attributes in g.nodes(data=True): # run this code to check your code above\n",
        "    print(f\"Node: {node}, Attributes: {attributes}\")"
      ]
    },
    {
      "cell_type": "markdown",
      "metadata": {},
      "source": [
        "Add edges (*myEdges=[]*):\n",
        "1. add connections between a House and its family members\n",
        "2. add connections between members belonging to the same House (not presented in my examples)"
      ]
    },
    {
      "cell_type": "code",
      "execution_count": 93,
      "metadata": {},
      "outputs": [],
      "source": [
        "myEdges=[]"
      ]
    },
    {
      "cell_type": "code",
      "execution_count": null,
      "metadata": {},
      "outputs": [],
      "source": [
        "for house in GameOfThronesHouses:\n",
        "    if house.name!=\"Include\":\n",
        "        for person in house:\n",
        "            #your code here\n",
        "\n",
        "            "
      ]
    },
    {
      "cell_type": "code",
      "execution_count": null,
      "metadata": {},
      "outputs": [
        {
          "name": "stdout",
          "output_type": "stream",
          "text": [
            "Connections between a House and its family members:\n"
          ]
        },
        {
          "data": {
            "text/plain": [
              "[('Arya Stark', 'Stark'),\n",
              " ('Benjen Stark', 'Stark'),\n",
              " ('Bran Stark', 'Stark'),\n",
              " ('Catelyn Stark', 'Stark'),\n",
              " ('Eddard Stark', 'Stark'),\n",
              " ('Ghost', 'Stark'),\n",
              " ('Grey Wind', 'Stark'),\n",
              " ('Jon Snow', 'Stark'),\n",
              " ('Lady', 'Stark'),\n",
              " ('Nymeria', 'Stark'),\n",
              " ('Rickon Stark', 'Stark'),\n",
              " ('Robb Stark', 'Stark'),\n",
              " ('Sansa Stark', 'Stark'),\n",
              " ('Shaggydog', 'Stark'),\n",
              " ('Summer', 'Stark'),\n",
              " ('Daenerys Targaryen', 'Targaryen'),\n",
              " ('Drogon', 'Targaryen'),\n",
              " ('Rhaegal', 'Targaryen'),\n",
              " ('Viserion', 'Targaryen'),\n",
              " ('Viserys Targaryen', 'Targaryen'),\n",
              " ('Joffrey Baratheon', 'Baratheon'),\n",
              " ('Myrcella Baratheon', 'Baratheon'),\n",
              " ('Renly Baratheon', 'Baratheon'),\n",
              " ('Robert Baratheon', 'Baratheon'),\n",
              " ('Selyse Baratheon', 'Baratheon'),\n",
              " ('Shireen Baratheon', 'Baratheon'),\n",
              " ('Stannis Baratheon', 'Baratheon'),\n",
              " ('Tommen Baratheon', 'Baratheon'),\n",
              " ('Gendry', 'Baratheon'),\n",
              " ('Cersei Lannister', 'Lannister'),\n",
              " ('Jaime Lannister', 'Lannister'),\n",
              " ('Kevan Lannister', 'Lannister'),\n",
              " ('Lancel Lannister', 'Lannister'),\n",
              " ('Tyrion Lannister', 'Lannister'),\n",
              " ('Tywin Lannister', 'Lannister'),\n",
              " ('Alliser Thorne', \"Night's Watch\"),\n",
              " ('Eddison Tollett', \"Night's Watch\"),\n",
              " ('Grenn', \"Night's Watch\"),\n",
              " ('Jeor Mormont', \"Night's Watch\"),\n",
              " ('Karl Tanner', \"Night's Watch\"),\n",
              " ('Maester Aemon', \"Night's Watch\"),\n",
              " ('Olly', \"Night's Watch\"),\n",
              " ('Othell Yarwyck', \"Night's Watch\"),\n",
              " ('Pypar', \"Night's Watch\"),\n",
              " ('Qhorin Halfhand', \"Night's Watch\"),\n",
              " ('Rast', \"Night's Watch\"),\n",
              " ('Samwell Tarly', \"Night's Watch\"),\n",
              " ('Yoren', \"Night's Watch\"),\n",
              " ('Doreah', 'Dothraki'),\n",
              " ('Irri', 'Dothraki'),\n",
              " ('Khal Drogo', 'Dothraki'),\n",
              " ('Rakharo', 'Dothraki'),\n",
              " ('Qhono', 'Dothraki'),\n",
              " ('Balon Greyjoy', 'Greyjoy'),\n",
              " ('Euron Greyjoy', 'Greyjoy'),\n",
              " ('Theon Greyjoy', 'Greyjoy'),\n",
              " ('Yara Greyjoy', 'Greyjoy'),\n",
              " ('Loras Tyrell', 'Tyrell'),\n",
              " ('Mace Tyrell', 'Tyrell'),\n",
              " ('Margaery Tyrell', 'Tyrell'),\n",
              " ('Olenna Tyrell', 'Tyrell'),\n",
              " ('Baby Sam', 'Wildlings'),\n",
              " ('Craster', 'Wildlings'),\n",
              " ('Gilly', 'Wildlings'),\n",
              " ('Mag the Mighty', 'Wildlings'),\n",
              " ('Mance Rayder', 'Wildlings'),\n",
              " ('Osha', 'Wildlings'),\n",
              " ('Rattleshirt', 'Wildlings'),\n",
              " ('Thenn Warg', 'Wildlings'),\n",
              " ('Tormund Giantsbane', 'Wildlings'),\n",
              " ('Wun Wun', 'Wildlings'),\n",
              " ('Ygritte', 'Wildlings'),\n",
              " ('Doran Martell', 'Martell'),\n",
              " ('Ellaria Sand', 'Martell'),\n",
              " ('Nymeria Sand', 'Martell'),\n",
              " ('Obara Sand', 'Martell'),\n",
              " ('Oberyn Martell', 'Martell'),\n",
              " ('Trystane Martell', 'Martell'),\n",
              " ('Tyene Sand', 'Martell'),\n",
              " ('Black Walder Rivers', 'Frey'),\n",
              " ('Lothar Frey', 'Frey'),\n",
              " ('Walder Frey', 'Frey'),\n",
              " ('Brynden Tully', 'Tully'),\n",
              " ('Edmure Tully', 'Tully'),\n",
              " ('Mag the Mighty Wight', 'White Walkers'),\n",
              " ('The Night King', 'White Walkers'),\n",
              " ('White Walker', 'White Walkers'),\n",
              " ('Wight Wildling Girl', 'White Walkers'),\n",
              " ('Wun Wun Wight', 'White Walkers')]"
            ]
          },
          "execution_count": 95,
          "metadata": {},
          "output_type": "execute_result"
        }
      ],
      "source": [
        "print(\"Connections between a House and its family members:\") # run this code to check your code above\n",
        "myEdges"
      ]
    },
    {
      "cell_type": "code",
      "execution_count": null,
      "metadata": {},
      "outputs": [],
      "source": [
        "g.add_edges_from(myEdges) # run this code to add edges to our graph g"
      ]
    },
    {
      "cell_type": "code",
      "execution_count": null,
      "metadata": {},
      "outputs": [
        {
          "data": {
            "text/plain": [
              "[('Stark', 'Arya Stark'),\n",
              " ('Stark', 'Benjen Stark'),\n",
              " ('Stark', 'Bran Stark'),\n",
              " ('Stark', 'Catelyn Stark'),\n",
              " ('Stark', 'Eddard Stark'),\n",
              " ('Stark', 'Ghost'),\n",
              " ('Stark', 'Grey Wind'),\n",
              " ('Stark', 'Jon Snow'),\n",
              " ('Stark', 'Lady'),\n",
              " ('Stark', 'Nymeria'),\n",
              " ('Stark', 'Rickon Stark'),\n",
              " ('Stark', 'Robb Stark'),\n",
              " ('Stark', 'Sansa Stark'),\n",
              " ('Stark', 'Shaggydog'),\n",
              " ('Stark', 'Summer'),\n",
              " ('Targaryen', 'Daenerys Targaryen'),\n",
              " ('Targaryen', 'Drogon'),\n",
              " ('Targaryen', 'Rhaegal'),\n",
              " ('Targaryen', 'Viserion'),\n",
              " ('Targaryen', 'Viserys Targaryen'),\n",
              " ('Baratheon', 'Joffrey Baratheon'),\n",
              " ('Baratheon', 'Myrcella Baratheon'),\n",
              " ('Baratheon', 'Renly Baratheon'),\n",
              " ('Baratheon', 'Robert Baratheon'),\n",
              " ('Baratheon', 'Selyse Baratheon'),\n",
              " ('Baratheon', 'Shireen Baratheon'),\n",
              " ('Baratheon', 'Stannis Baratheon'),\n",
              " ('Baratheon', 'Tommen Baratheon'),\n",
              " ('Baratheon', 'Gendry'),\n",
              " ('Lannister', 'Cersei Lannister'),\n",
              " ('Lannister', 'Jaime Lannister'),\n",
              " ('Lannister', 'Kevan Lannister'),\n",
              " ('Lannister', 'Lancel Lannister'),\n",
              " ('Lannister', 'Tyrion Lannister'),\n",
              " ('Lannister', 'Tywin Lannister'),\n",
              " (\"Night's Watch\", 'Alliser Thorne'),\n",
              " (\"Night's Watch\", 'Eddison Tollett'),\n",
              " (\"Night's Watch\", 'Grenn'),\n",
              " (\"Night's Watch\", 'Jeor Mormont'),\n",
              " (\"Night's Watch\", 'Karl Tanner'),\n",
              " (\"Night's Watch\", 'Maester Aemon'),\n",
              " (\"Night's Watch\", 'Olly'),\n",
              " (\"Night's Watch\", 'Othell Yarwyck'),\n",
              " (\"Night's Watch\", 'Pypar'),\n",
              " (\"Night's Watch\", 'Qhorin Halfhand'),\n",
              " (\"Night's Watch\", 'Rast'),\n",
              " (\"Night's Watch\", 'Samwell Tarly'),\n",
              " (\"Night's Watch\", 'Yoren'),\n",
              " ('Dothraki', 'Doreah'),\n",
              " ('Dothraki', 'Irri'),\n",
              " ('Dothraki', 'Khal Drogo'),\n",
              " ('Dothraki', 'Rakharo'),\n",
              " ('Dothraki', 'Qhono'),\n",
              " ('Greyjoy', 'Balon Greyjoy'),\n",
              " ('Greyjoy', 'Euron Greyjoy'),\n",
              " ('Greyjoy', 'Theon Greyjoy'),\n",
              " ('Greyjoy', 'Yara Greyjoy'),\n",
              " ('Tyrell', 'Loras Tyrell'),\n",
              " ('Tyrell', 'Mace Tyrell'),\n",
              " ('Tyrell', 'Margaery Tyrell'),\n",
              " ('Tyrell', 'Olenna Tyrell'),\n",
              " ('Wildlings', 'Baby Sam'),\n",
              " ('Wildlings', 'Craster'),\n",
              " ('Wildlings', 'Gilly'),\n",
              " ('Wildlings', 'Mag the Mighty'),\n",
              " ('Wildlings', 'Mance Rayder'),\n",
              " ('Wildlings', 'Osha'),\n",
              " ('Wildlings', 'Rattleshirt'),\n",
              " ('Wildlings', 'Thenn Warg'),\n",
              " ('Wildlings', 'Tormund Giantsbane'),\n",
              " ('Wildlings', 'Wun Wun'),\n",
              " ('Wildlings', 'Ygritte'),\n",
              " ('Martell', 'Doran Martell'),\n",
              " ('Martell', 'Ellaria Sand'),\n",
              " ('Martell', 'Nymeria Sand'),\n",
              " ('Martell', 'Obara Sand'),\n",
              " ('Martell', 'Oberyn Martell'),\n",
              " ('Martell', 'Trystane Martell'),\n",
              " ('Martell', 'Tyene Sand'),\n",
              " ('Frey', 'Black Walder Rivers'),\n",
              " ('Frey', 'Lothar Frey'),\n",
              " ('Frey', 'Walder Frey'),\n",
              " ('Tully', 'Brynden Tully'),\n",
              " ('Tully', 'Edmure Tully'),\n",
              " ('White Walkers', 'Mag the Mighty Wight'),\n",
              " ('White Walkers', 'The Night King'),\n",
              " ('White Walkers', 'White Walker'),\n",
              " ('White Walkers', 'Wight Wildling Girl'),\n",
              " ('White Walkers', 'Wun Wun Wight')]"
            ]
          },
          "execution_count": 97,
          "metadata": {},
          "output_type": "execute_result"
        }
      ],
      "source": [
        "list(g.edges)# run this code  to check the edges in our graph g"
      ]
    },
    {
      "cell_type": "code",
      "execution_count": null,
      "metadata": {},
      "outputs": [
        {
          "data": {
            "text/plain": [
              "89"
            ]
          },
          "execution_count": 98,
          "metadata": {},
          "output_type": "execute_result"
        }
      ],
      "source": [
        "len(list(g.edges)) # N of edges =89!!! check yours :)"
      ]
    },
    {
      "cell_type": "code",
      "execution_count": 99,
      "metadata": {},
      "outputs": [],
      "source": [
        "from pyvis.network import Network"
      ]
    },
    {
      "cell_type": "markdown",
      "metadata": {},
      "source": [
        "All networks (graphs) must be instantiated as a *Network* class instance"
      ]
    },
    {
      "cell_type": "code",
      "execution_count": 100,
      "metadata": {},
      "outputs": [],
      "source": [
        "GameOfThronesNet = Network(\n",
        "                bgcolor =\"#242020\",\n",
        "                font_color = \"white\",\n",
        "                height = \"1000px\",\n",
        "                width = \"100%\",\n",
        "                notebook=True,\n",
        "                cdn_resources = \"remote\")"
      ]
    },
    {
      "cell_type": "code",
      "execution_count": 101,
      "metadata": {},
      "outputs": [],
      "source": [
        "# generate the graph\n",
        "GameOfThronesNet.from_nx(g)  "
      ]
    },
    {
      "cell_type": "markdown",
      "metadata": {},
      "source": [
        "Specify colors for the Houses and their members by using the code below:"
      ]
    },
    {
      "cell_type": "code",
      "execution_count": 109,
      "metadata": {},
      "outputs": [],
      "source": [
        "for node in GameOfThronesNet.nodes:\n",
        "    if node[\"id\"] in GameOfThronesHouses:\n",
        "        # Convert RGB to hexadecimal string\n",
        "        node[\"color\"] = '#%02x%02x%02x' % nodeColors[node[\"id\"]]\n",
        "    else:\n",
        "        for house in GameOfThronesHouses: \n",
        "            if house.name !=\"Include\":# apple the coloer of the House to this family member\n",
        "                if node[\"id\"] in house:\n",
        "                    node[\"color\"] = '#%02x%02x%02x' % nodeColors[house.name]"
      ]
    },
    {
      "cell_type": "code",
      "execution_count": 110,
      "metadata": {},
      "outputs": [
        {
          "data": {
            "text/plain": [
              "[{'color': '#f67088',\n",
              "  'size': 15,\n",
              "  'id': 'Stark',\n",
              "  'label': 'Stark',\n",
              "  'shape': 'dot',\n",
              "  'font': {'color': 'white'}},\n",
              " {'color': '#f67088',\n",
              "  'size': 10,\n",
              "  'id': 'Arya Stark',\n",
              "  'label': 'Arya Stark',\n",
              "  'shape': 'dot',\n",
              "  'font': {'color': 'white'}},\n",
              " {'color': '#f67088',\n",
              "  'size': 10,\n",
              "  'id': 'Benjen Stark',\n",
              "  'label': 'Benjen Stark',\n",
              "  'shape': 'dot',\n",
              "  'font': {'color': 'white'}},\n",
              " {'color': '#f67088',\n",
              "  'size': 10,\n",
              "  'id': 'Bran Stark',\n",
              "  'label': 'Bran Stark',\n",
              "  'shape': 'dot',\n",
              "  'font': {'color': 'white'}},\n",
              " {'color': '#f67088',\n",
              "  'size': 10,\n",
              "  'id': 'Catelyn Stark',\n",
              "  'label': 'Catelyn Stark',\n",
              "  'shape': 'dot',\n",
              "  'font': {'color': 'white'}},\n",
              " {'color': '#f67088',\n",
              "  'size': 10,\n",
              "  'id': 'Eddard Stark',\n",
              "  'label': 'Eddard Stark',\n",
              "  'shape': 'dot',\n",
              "  'font': {'color': 'white'}},\n",
              " {'color': '#f67088',\n",
              "  'size': 10,\n",
              "  'id': 'Ghost',\n",
              "  'label': 'Ghost',\n",
              "  'shape': 'dot',\n",
              "  'font': {'color': 'white'}},\n",
              " {'color': '#f67088',\n",
              "  'size': 10,\n",
              "  'id': 'Grey Wind',\n",
              "  'label': 'Grey Wind',\n",
              "  'shape': 'dot',\n",
              "  'font': {'color': 'white'}},\n",
              " {'color': '#f67088',\n",
              "  'size': 10,\n",
              "  'id': 'Jon Snow',\n",
              "  'label': 'Jon Snow',\n",
              "  'shape': 'dot',\n",
              "  'font': {'color': 'white'}},\n",
              " {'color': '#f67088',\n",
              "  'size': 10,\n",
              "  'id': 'Lady',\n",
              "  'label': 'Lady',\n",
              "  'shape': 'dot',\n",
              "  'font': {'color': 'white'}},\n",
              " {'color': '#f67088',\n",
              "  'size': 10,\n",
              "  'id': 'Nymeria',\n",
              "  'label': 'Nymeria',\n",
              "  'shape': 'dot',\n",
              "  'font': {'color': 'white'}},\n",
              " {'color': '#f67088',\n",
              "  'size': 10,\n",
              "  'id': 'Rickon Stark',\n",
              "  'label': 'Rickon Stark',\n",
              "  'shape': 'dot',\n",
              "  'font': {'color': 'white'}},\n",
              " {'color': '#f67088',\n",
              "  'size': 10,\n",
              "  'id': 'Robb Stark',\n",
              "  'label': 'Robb Stark',\n",
              "  'shape': 'dot',\n",
              "  'font': {'color': 'white'}},\n",
              " {'color': '#f67088',\n",
              "  'size': 10,\n",
              "  'id': 'Sansa Stark',\n",
              "  'label': 'Sansa Stark',\n",
              "  'shape': 'dot',\n",
              "  'font': {'color': 'white'}},\n",
              " {'color': '#f67088',\n",
              "  'size': 10,\n",
              "  'id': 'Shaggydog',\n",
              "  'label': 'Shaggydog',\n",
              "  'shape': 'dot',\n",
              "  'font': {'color': 'white'}},\n",
              " {'color': '#f67088',\n",
              "  'size': 10,\n",
              "  'id': 'Summer',\n",
              "  'label': 'Summer',\n",
              "  'shape': 'dot',\n",
              "  'font': {'color': 'white'}},\n",
              " {'color': '#eb7f31',\n",
              "  'size': 5,\n",
              "  'id': 'Targaryen',\n",
              "  'label': 'Targaryen',\n",
              "  'shape': 'dot',\n",
              "  'font': {'color': 'white'}},\n",
              " {'color': '#eb7f31',\n",
              "  'size': 10,\n",
              "  'id': 'Daenerys Targaryen',\n",
              "  'label': 'Daenerys Targaryen',\n",
              "  'shape': 'dot',\n",
              "  'font': {'color': 'white'}},\n",
              " {'color': '#eb7f31',\n",
              "  'size': 10,\n",
              "  'id': 'Drogon',\n",
              "  'label': 'Drogon',\n",
              "  'shape': 'dot',\n",
              "  'font': {'color': 'white'}},\n",
              " {'color': '#eb7f31',\n",
              "  'size': 10,\n",
              "  'id': 'Rhaegal',\n",
              "  'label': 'Rhaegal',\n",
              "  'shape': 'dot',\n",
              "  'font': {'color': 'white'}},\n",
              " {'color': '#eb7f31',\n",
              "  'size': 10,\n",
              "  'id': 'Viserion',\n",
              "  'label': 'Viserion',\n",
              "  'shape': 'dot',\n",
              "  'font': {'color': 'white'}},\n",
              " {'color': '#eb7f31',\n",
              "  'size': 10,\n",
              "  'id': 'Viserys Targaryen',\n",
              "  'label': 'Viserys Targaryen',\n",
              "  'shape': 'dot',\n",
              "  'font': {'color': 'white'}},\n",
              " {'color': '#c09531',\n",
              "  'size': 9,\n",
              "  'id': 'Baratheon',\n",
              "  'label': 'Baratheon',\n",
              "  'shape': 'dot',\n",
              "  'font': {'color': 'white'}},\n",
              " {'color': '#c09531',\n",
              "  'size': 10,\n",
              "  'id': 'Joffrey Baratheon',\n",
              "  'label': 'Joffrey Baratheon',\n",
              "  'shape': 'dot',\n",
              "  'font': {'color': 'white'}},\n",
              " {'color': '#c09531',\n",
              "  'size': 10,\n",
              "  'id': 'Myrcella Baratheon',\n",
              "  'label': 'Myrcella Baratheon',\n",
              "  'shape': 'dot',\n",
              "  'font': {'color': 'white'}},\n",
              " {'color': '#c09531',\n",
              "  'size': 10,\n",
              "  'id': 'Renly Baratheon',\n",
              "  'label': 'Renly Baratheon',\n",
              "  'shape': 'dot',\n",
              "  'font': {'color': 'white'}},\n",
              " {'color': '#c09531',\n",
              "  'size': 10,\n",
              "  'id': 'Robert Baratheon',\n",
              "  'label': 'Robert Baratheon',\n",
              "  'shape': 'dot',\n",
              "  'font': {'color': 'white'}},\n",
              " {'color': '#c09531',\n",
              "  'size': 10,\n",
              "  'id': 'Selyse Baratheon',\n",
              "  'label': 'Selyse Baratheon',\n",
              "  'shape': 'dot',\n",
              "  'font': {'color': 'white'}},\n",
              " {'color': '#c09531',\n",
              "  'size': 10,\n",
              "  'id': 'Shireen Baratheon',\n",
              "  'label': 'Shireen Baratheon',\n",
              "  'shape': 'dot',\n",
              "  'font': {'color': 'white'}},\n",
              " {'color': '#c09531',\n",
              "  'size': 10,\n",
              "  'id': 'Stannis Baratheon',\n",
              "  'label': 'Stannis Baratheon',\n",
              "  'shape': 'dot',\n",
              "  'font': {'color': 'white'}},\n",
              " {'color': '#c09531',\n",
              "  'size': 10,\n",
              "  'id': 'Tommen Baratheon',\n",
              "  'label': 'Tommen Baratheon',\n",
              "  'shape': 'dot',\n",
              "  'font': {'color': 'white'}},\n",
              " {'color': '#c09531',\n",
              "  'size': 10,\n",
              "  'id': 'Gendry',\n",
              "  'label': 'Gendry',\n",
              "  'shape': 'dot',\n",
              "  'font': {'color': 'white'}},\n",
              " {'color': '#a0a131',\n",
              "  'size': 6,\n",
              "  'id': 'Lannister',\n",
              "  'label': 'Lannister',\n",
              "  'shape': 'dot',\n",
              "  'font': {'color': 'white'}},\n",
              " {'color': '#a0a131',\n",
              "  'size': 10,\n",
              "  'id': 'Cersei Lannister',\n",
              "  'label': 'Cersei Lannister',\n",
              "  'shape': 'dot',\n",
              "  'font': {'color': 'white'}},\n",
              " {'color': '#a0a131',\n",
              "  'size': 10,\n",
              "  'id': 'Jaime Lannister',\n",
              "  'label': 'Jaime Lannister',\n",
              "  'shape': 'dot',\n",
              "  'font': {'color': 'white'}},\n",
              " {'color': '#a0a131',\n",
              "  'size': 10,\n",
              "  'id': 'Kevan Lannister',\n",
              "  'label': 'Kevan Lannister',\n",
              "  'shape': 'dot',\n",
              "  'font': {'color': 'white'}},\n",
              " {'color': '#a0a131',\n",
              "  'size': 10,\n",
              "  'id': 'Lancel Lannister',\n",
              "  'label': 'Lancel Lannister',\n",
              "  'shape': 'dot',\n",
              "  'font': {'color': 'white'}},\n",
              " {'color': '#a0a131',\n",
              "  'size': 10,\n",
              "  'id': 'Tyrion Lannister',\n",
              "  'label': 'Tyrion Lannister',\n",
              "  'shape': 'dot',\n",
              "  'font': {'color': 'white'}},\n",
              " {'color': '#a0a131',\n",
              "  'size': 10,\n",
              "  'id': 'Tywin Lannister',\n",
              "  'label': 'Tywin Lannister',\n",
              "  'shape': 'dot',\n",
              "  'font': {'color': 'white'}},\n",
              " {'color': '#70ac31',\n",
              "  'size': 13,\n",
              "  'id': \"Night's Watch\",\n",
              "  'label': \"Night's Watch\",\n",
              "  'shape': 'dot',\n",
              "  'font': {'color': 'white'}},\n",
              " {'color': '#70ac31',\n",
              "  'size': 10,\n",
              "  'id': 'Alliser Thorne',\n",
              "  'label': 'Alliser Thorne',\n",
              "  'shape': 'dot',\n",
              "  'font': {'color': 'white'}},\n",
              " {'color': '#70ac31',\n",
              "  'size': 10,\n",
              "  'id': 'Eddison Tollett',\n",
              "  'label': 'Eddison Tollett',\n",
              "  'shape': 'dot',\n",
              "  'font': {'color': 'white'}},\n",
              " {'color': '#70ac31',\n",
              "  'size': 10,\n",
              "  'id': 'Grenn',\n",
              "  'label': 'Grenn',\n",
              "  'shape': 'dot',\n",
              "  'font': {'color': 'white'}},\n",
              " {'color': '#70ac31',\n",
              "  'size': 10,\n",
              "  'id': 'Jeor Mormont',\n",
              "  'label': 'Jeor Mormont',\n",
              "  'shape': 'dot',\n",
              "  'font': {'color': 'white'}},\n",
              " {'color': '#70ac31',\n",
              "  'size': 10,\n",
              "  'id': 'Karl Tanner',\n",
              "  'label': 'Karl Tanner',\n",
              "  'shape': 'dot',\n",
              "  'font': {'color': 'white'}},\n",
              " {'color': '#70ac31',\n",
              "  'size': 10,\n",
              "  'id': 'Maester Aemon',\n",
              "  'label': 'Maester Aemon',\n",
              "  'shape': 'dot',\n",
              "  'font': {'color': 'white'}},\n",
              " {'color': '#70ac31',\n",
              "  'size': 10,\n",
              "  'id': 'Olly',\n",
              "  'label': 'Olly',\n",
              "  'shape': 'dot',\n",
              "  'font': {'color': 'white'}},\n",
              " {'color': '#70ac31',\n",
              "  'size': 10,\n",
              "  'id': 'Othell Yarwyck',\n",
              "  'label': 'Othell Yarwyck',\n",
              "  'shape': 'dot',\n",
              "  'font': {'color': 'white'}},\n",
              " {'color': '#70ac31',\n",
              "  'size': 10,\n",
              "  'id': 'Pypar',\n",
              "  'label': 'Pypar',\n",
              "  'shape': 'dot',\n",
              "  'font': {'color': 'white'}},\n",
              " {'color': '#70ac31',\n",
              "  'size': 10,\n",
              "  'id': 'Qhorin Halfhand',\n",
              "  'label': 'Qhorin Halfhand',\n",
              "  'shape': 'dot',\n",
              "  'font': {'color': 'white'}},\n",
              " {'color': '#70ac31',\n",
              "  'size': 10,\n",
              "  'id': 'Rast',\n",
              "  'label': 'Rast',\n",
              "  'shape': 'dot',\n",
              "  'font': {'color': 'white'}},\n",
              " {'color': '#70ac31',\n",
              "  'size': 10,\n",
              "  'id': 'Samwell Tarly',\n",
              "  'label': 'Samwell Tarly',\n",
              "  'shape': 'dot',\n",
              "  'font': {'color': 'white'}},\n",
              " {'color': '#70ac31',\n",
              "  'size': 10,\n",
              "  'id': 'Yoren',\n",
              "  'label': 'Yoren',\n",
              "  'shape': 'dot',\n",
              "  'font': {'color': 'white'}},\n",
              " {'color': '#32b06e',\n",
              "  'size': 5,\n",
              "  'id': 'Dothraki',\n",
              "  'label': 'Dothraki',\n",
              "  'shape': 'dot',\n",
              "  'font': {'color': 'white'}},\n",
              " {'color': '#32b06e',\n",
              "  'size': 10,\n",
              "  'id': 'Doreah',\n",
              "  'label': 'Doreah',\n",
              "  'shape': 'dot',\n",
              "  'font': {'color': 'white'}},\n",
              " {'color': '#32b06e',\n",
              "  'size': 10,\n",
              "  'id': 'Irri',\n",
              "  'label': 'Irri',\n",
              "  'shape': 'dot',\n",
              "  'font': {'color': 'white'}},\n",
              " {'color': '#32b06e',\n",
              "  'size': 10,\n",
              "  'id': 'Khal Drogo',\n",
              "  'label': 'Khal Drogo',\n",
              "  'shape': 'dot',\n",
              "  'font': {'color': 'white'}},\n",
              " {'color': '#32b06e',\n",
              "  'size': 10,\n",
              "  'id': 'Rakharo',\n",
              "  'label': 'Rakharo',\n",
              "  'shape': 'dot',\n",
              "  'font': {'color': 'white'}},\n",
              " {'color': '#32b06e',\n",
              "  'size': 10,\n",
              "  'id': 'Qhono',\n",
              "  'label': 'Qhono',\n",
              "  'shape': 'dot',\n",
              "  'font': {'color': 'white'}},\n",
              " {'color': '#34ad97',\n",
              "  'size': 4,\n",
              "  'id': 'Greyjoy',\n",
              "  'label': 'Greyjoy',\n",
              "  'shape': 'dot',\n",
              "  'font': {'color': 'white'}},\n",
              " {'color': '#34ad97',\n",
              "  'size': 10,\n",
              "  'id': 'Balon Greyjoy',\n",
              "  'label': 'Balon Greyjoy',\n",
              "  'shape': 'dot',\n",
              "  'font': {'color': 'white'}},\n",
              " {'color': '#34ad97',\n",
              "  'size': 10,\n",
              "  'id': 'Euron Greyjoy',\n",
              "  'label': 'Euron Greyjoy',\n",
              "  'shape': 'dot',\n",
              "  'font': {'color': 'white'}},\n",
              " {'color': '#34ad97',\n",
              "  'size': 10,\n",
              "  'id': 'Theon Greyjoy',\n",
              "  'label': 'Theon Greyjoy',\n",
              "  'shape': 'dot',\n",
              "  'font': {'color': 'white'}},\n",
              " {'color': '#34ad97',\n",
              "  'size': 10,\n",
              "  'id': 'Yara Greyjoy',\n",
              "  'label': 'Yara Greyjoy',\n",
              "  'shape': 'dot',\n",
              "  'font': {'color': 'white'}},\n",
              " {'color': '#36abaf',\n",
              "  'size': 4,\n",
              "  'id': 'Tyrell',\n",
              "  'label': 'Tyrell',\n",
              "  'shape': 'dot',\n",
              "  'font': {'color': 'white'}},\n",
              " {'color': '#36abaf',\n",
              "  'size': 10,\n",
              "  'id': 'Loras Tyrell',\n",
              "  'label': 'Loras Tyrell',\n",
              "  'shape': 'dot',\n",
              "  'font': {'color': 'white'}},\n",
              " {'color': '#36abaf',\n",
              "  'size': 10,\n",
              "  'id': 'Mace Tyrell',\n",
              "  'label': 'Mace Tyrell',\n",
              "  'shape': 'dot',\n",
              "  'font': {'color': 'white'}},\n",
              " {'color': '#36abaf',\n",
              "  'size': 10,\n",
              "  'id': 'Margaery Tyrell',\n",
              "  'label': 'Margaery Tyrell',\n",
              "  'shape': 'dot',\n",
              "  'font': {'color': 'white'}},\n",
              " {'color': '#36abaf',\n",
              "  'size': 10,\n",
              "  'id': 'Olenna Tyrell',\n",
              "  'label': 'Olenna Tyrell',\n",
              "  'shape': 'dot',\n",
              "  'font': {'color': 'white'}},\n",
              " {'color': '#38a8cb',\n",
              "  'size': 11,\n",
              "  'id': 'Wildlings',\n",
              "  'label': 'Wildlings',\n",
              "  'shape': 'dot',\n",
              "  'font': {'color': 'white'}},\n",
              " {'color': '#38a8cb',\n",
              "  'size': 10,\n",
              "  'id': 'Baby Sam',\n",
              "  'label': 'Baby Sam',\n",
              "  'shape': 'dot',\n",
              "  'font': {'color': 'white'}},\n",
              " {'color': '#38a8cb',\n",
              "  'size': 10,\n",
              "  'id': 'Craster',\n",
              "  'label': 'Craster',\n",
              "  'shape': 'dot',\n",
              "  'font': {'color': 'white'}},\n",
              " {'color': '#38a8cb',\n",
              "  'size': 10,\n",
              "  'id': 'Gilly',\n",
              "  'label': 'Gilly',\n",
              "  'shape': 'dot',\n",
              "  'font': {'color': 'white'}},\n",
              " {'color': '#38a8cb',\n",
              "  'size': 10,\n",
              "  'id': 'Mag the Mighty',\n",
              "  'label': 'Mag the Mighty',\n",
              "  'shape': 'dot',\n",
              "  'font': {'color': 'white'}},\n",
              " {'color': '#38a8cb',\n",
              "  'size': 10,\n",
              "  'id': 'Mance Rayder',\n",
              "  'label': 'Mance Rayder',\n",
              "  'shape': 'dot',\n",
              "  'font': {'color': 'white'}},\n",
              " {'color': '#38a8cb',\n",
              "  'size': 10,\n",
              "  'id': 'Osha',\n",
              "  'label': 'Osha',\n",
              "  'shape': 'dot',\n",
              "  'font': {'color': 'white'}},\n",
              " {'color': '#38a8cb',\n",
              "  'size': 10,\n",
              "  'id': 'Rattleshirt',\n",
              "  'label': 'Rattleshirt',\n",
              "  'shape': 'dot',\n",
              "  'font': {'color': 'white'}},\n",
              " {'color': '#38a8cb',\n",
              "  'size': 10,\n",
              "  'id': 'Thenn Warg',\n",
              "  'label': 'Thenn Warg',\n",
              "  'shape': 'dot',\n",
              "  'font': {'color': 'white'}},\n",
              " {'color': '#38a8cb',\n",
              "  'size': 10,\n",
              "  'id': 'Tormund Giantsbane',\n",
              "  'label': 'Tormund Giantsbane',\n",
              "  'shape': 'dot',\n",
              "  'font': {'color': 'white'}},\n",
              " {'color': '#38a8cb',\n",
              "  'size': 10,\n",
              "  'id': 'Wun Wun',\n",
              "  'label': 'Wun Wun',\n",
              "  'shape': 'dot',\n",
              "  'font': {'color': 'white'}},\n",
              " {'color': '#38a8cb',\n",
              "  'size': 10,\n",
              "  'id': 'Ygritte',\n",
              "  'label': 'Ygritte',\n",
              "  'shape': 'dot',\n",
              "  'font': {'color': 'white'}},\n",
              " {'color': '#629cf4',\n",
              "  'size': 7,\n",
              "  'id': 'Martell',\n",
              "  'label': 'Martell',\n",
              "  'shape': 'dot',\n",
              "  'font': {'color': 'white'}},\n",
              " {'color': '#629cf4',\n",
              "  'size': 10,\n",
              "  'id': 'Doran Martell',\n",
              "  'label': 'Doran Martell',\n",
              "  'shape': 'dot',\n",
              "  'font': {'color': 'white'}},\n",
              " {'color': '#629cf4',\n",
              "  'size': 10,\n",
              "  'id': 'Ellaria Sand',\n",
              "  'label': 'Ellaria Sand',\n",
              "  'shape': 'dot',\n",
              "  'font': {'color': 'white'}},\n",
              " {'color': '#629cf4',\n",
              "  'size': 10,\n",
              "  'id': 'Nymeria Sand',\n",
              "  'label': 'Nymeria Sand',\n",
              "  'shape': 'dot',\n",
              "  'font': {'color': 'white'}},\n",
              " {'color': '#629cf4',\n",
              "  'size': 10,\n",
              "  'id': 'Obara Sand',\n",
              "  'label': 'Obara Sand',\n",
              "  'shape': 'dot',\n",
              "  'font': {'color': 'white'}},\n",
              " {'color': '#629cf4',\n",
              "  'size': 10,\n",
              "  'id': 'Oberyn Martell',\n",
              "  'label': 'Oberyn Martell',\n",
              "  'shape': 'dot',\n",
              "  'font': {'color': 'white'}},\n",
              " {'color': '#629cf4',\n",
              "  'size': 10,\n",
              "  'id': 'Trystane Martell',\n",
              "  'label': 'Trystane Martell',\n",
              "  'shape': 'dot',\n",
              "  'font': {'color': 'white'}},\n",
              " {'color': '#629cf4',\n",
              "  'size': 10,\n",
              "  'id': 'Tyene Sand',\n",
              "  'label': 'Tyene Sand',\n",
              "  'shape': 'dot',\n",
              "  'font': {'color': 'white'}},\n",
              " {'color': '#b385f4',\n",
              "  'size': 3,\n",
              "  'id': 'Frey',\n",
              "  'label': 'Frey',\n",
              "  'shape': 'dot',\n",
              "  'font': {'color': 'white'}},\n",
              " {'color': '#b385f4',\n",
              "  'size': 10,\n",
              "  'id': 'Black Walder Rivers',\n",
              "  'label': 'Black Walder Rivers',\n",
              "  'shape': 'dot',\n",
              "  'font': {'color': 'white'}},\n",
              " {'color': '#b385f4',\n",
              "  'size': 10,\n",
              "  'id': 'Lothar Frey',\n",
              "  'label': 'Lothar Frey',\n",
              "  'shape': 'dot',\n",
              "  'font': {'color': 'white'}},\n",
              " {'color': '#b385f4',\n",
              "  'size': 10,\n",
              "  'id': 'Walder Frey',\n",
              "  'label': 'Walder Frey',\n",
              "  'shape': 'dot',\n",
              "  'font': {'color': 'white'}},\n",
              " {'color': '#f35bf4',\n",
              "  'size': 2,\n",
              "  'id': 'Tully',\n",
              "  'label': 'Tully',\n",
              "  'shape': 'dot',\n",
              "  'font': {'color': 'white'}},\n",
              " {'color': '#f35bf4',\n",
              "  'size': 10,\n",
              "  'id': 'Brynden Tully',\n",
              "  'label': 'Brynden Tully',\n",
              "  'shape': 'dot',\n",
              "  'font': {'color': 'white'}},\n",
              " {'color': '#f35bf4',\n",
              "  'size': 10,\n",
              "  'id': 'Edmure Tully',\n",
              "  'label': 'Edmure Tully',\n",
              "  'shape': 'dot',\n",
              "  'font': {'color': 'white'}},\n",
              " {'color': '#f568bd',\n",
              "  'size': 5,\n",
              "  'id': 'White Walkers',\n",
              "  'label': 'White Walkers',\n",
              "  'shape': 'dot',\n",
              "  'font': {'color': 'white'}},\n",
              " {'color': '#f568bd',\n",
              "  'size': 10,\n",
              "  'id': 'Mag the Mighty Wight',\n",
              "  'label': 'Mag the Mighty Wight',\n",
              "  'shape': 'dot',\n",
              "  'font': {'color': 'white'}},\n",
              " {'color': '#f568bd',\n",
              "  'size': 10,\n",
              "  'id': 'The Night King',\n",
              "  'label': 'The Night King',\n",
              "  'shape': 'dot',\n",
              "  'font': {'color': 'white'}},\n",
              " {'color': '#f568bd',\n",
              "  'size': 10,\n",
              "  'id': 'White Walker',\n",
              "  'label': 'White Walker',\n",
              "  'shape': 'dot',\n",
              "  'font': {'color': 'white'}},\n",
              " {'color': '#f568bd',\n",
              "  'size': 10,\n",
              "  'id': 'Wight Wildling Girl',\n",
              "  'label': 'Wight Wildling Girl',\n",
              "  'shape': 'dot',\n",
              "  'font': {'color': 'white'}},\n",
              " {'color': '#f568bd',\n",
              "  'size': 10,\n",
              "  'id': 'Wun Wun Wight',\n",
              "  'label': 'Wun Wun Wight',\n",
              "  'shape': 'dot',\n",
              "  'font': {'color': 'white'}}]"
            ]
          },
          "execution_count": 110,
          "metadata": {},
          "output_type": "execute_result"
        }
      ],
      "source": [
        "GameOfThronesNet.nodes"
      ]
    },
    {
      "cell_type": "code",
      "execution_count": 111,
      "metadata": {},
      "outputs": [
        {
          "name": "stdout",
          "output_type": "stream",
          "text": [
            "GameOfThronesNet.html\n"
          ]
        }
      ],
      "source": [
        "GameOfThronesNet.show(\"GameOfThronesNet.html\",notebook=False)"
      ]
    },
    {
      "attachments": {
        "image.png": {
          "image/png": "[encoded data removed]"
        }
      },
      "cell_type": "markdown",
      "metadata": {},
      "source": [
        "![image.png](attachment:image.png)\n"
      ]
    },
    {
      "attachments": {
        "image.png": {
          "image/png": "[encoded data removed]"
        }
      },
      "cell_type": "markdown",
      "metadata": {},
      "source": [
        "![image.png](attachment:image.png)"
      ]
    },
    {
      "cell_type": "markdown",
      "metadata": {},
      "source": []
    }
  ],
  "metadata": {
    "colab": {
      "provenance": []
    },
    "kernelspec": {
      "display_name": ".venv",
      "language": "python",
      "name": "python3"
    },
    "language_info": {
      "codemirror_mode": {
        "name": "ipython",
        "version": 3
      },
      "file_extension": ".py",
      "mimetype": "text/x-python",
      "name": "python",
      "nbconvert_exporter": "python",
      "pygments_lexer": "ipython3",
      "version": "3.13.0"
    }
  },
  "nbformat": 4,
  "nbformat_minor": 0
}
