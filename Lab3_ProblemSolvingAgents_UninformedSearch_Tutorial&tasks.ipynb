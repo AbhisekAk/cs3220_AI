{
 "cells": [
  {
   "cell_type": "markdown",
   "id": "974e6d1b",
   "metadata": {},
   "source": [
    "# Problem Solving Agents: Uninformed Search"
   ]
  },
  {
   "cell_type": "markdown",
   "id": "e4500141",
   "metadata": {},
   "source": [
    "## Problem-Solving Agents & State Space"
   ]
  },
  {
   "cell_type": "markdown",
   "id": "5ebaef93",
   "metadata": {},
   "source": [
    "When the correct action to take is not immediately obvious, an agent may need to to plan ahead: to consider a sequence of actions that form a path to a goal state.\n",
    "\n",
    "Such an agent is called a **problem-solving agent**, and the computational process it undertakes is called **search**.\n",
    "\n",
    "Problem-solving agents use atomic representations - states of the world are considered as wholes, with no internal structure visible to the problem-solving algorithms\n",
    "\n",
    "We are going to build the **goal-based agents** that can plan ahead to solve problems.\\\\\\\\\n",
    "\n",
    "\n",
    "\n",
    "       "
   ]
  },
  {
   "cell_type": "markdown",
   "id": "f3fa269b",
   "metadata": {},
   "source": [
    "### Romania navigation problem Example"
   ]
  },
  {
   "cell_type": "markdown",
   "id": "9fe8e808",
   "metadata": {},
   "source": [
    "In particular, we examine n*avigation problem/ route finding problem*.\n",
    "\n",
    "We consider only the simplest environments: single agent, fully observable, deterministic, static, discrete, and known\n",
    "\n",
    "1. We must begin by **precisely defining problems** -> `class Problem` - how we define a Problem in general \n",
    "\n",
    " **!!!** Explore the `class Problem`\n",
    "\n",
    "2. `class Problem` == The *abstract class* for a formal problem. \n",
    "* You should subclass     this and implement the methods `actions` and `result`, and possibly  ` __init__, goal_test`, and `path_cost`. \n",
    "* The *state space* should be included in a subclass\n",
    "* Then you will create instances of your subclass and solve them with the various search functions.\n",
    "\n",
    "3. `class  GraphProblem(Problem)` == The problem of searching a graph (the state space  ==  a graph) from one node to another\n",
    "* The state space is stored as nested dictionaries\n",
    "\n",
    "    `G={'node1':{'neighbor1_of_Node1':distance_from_Node1_to_neighbor1_of_Node1,..},\n",
    "       .....}`"
   ]
  },
  {
   "cell_type": "code",
   "execution_count": 4,
   "id": "09d6663f",
   "metadata": {},
   "outputs": [],
   "source": [
    "from src.graphProblemClass import GraphProblem"
   ]
  },
  {
   "cell_type": "markdown",
   "id": "6873dddd",
   "metadata": {},
   "source": [
    "The graph data -> stored in the nested dictionary `romaniaData`"
   ]
  },
  {
   "cell_type": "code",
   "execution_count": 5,
   "id": "2f9829ef",
   "metadata": {},
   "outputs": [],
   "source": [
    "from data.RomaniaMapData import romaniaData"
   ]
  },
  {
   "cell_type": "code",
   "execution_count": 6,
   "id": "034348bd",
   "metadata": {},
   "outputs": [
    {
     "data": {
      "text/plain": [
       "{'Arad': {'Zerind': 75, 'Sibiu': 140, 'Timisoara': 118},\n",
       " 'Bucharest': {'Urziceni': 85, 'Pitesti': 101, 'Giurgiu': 90, 'Fagaras': 211},\n",
       " 'Craiova': {'Drobeta': 120, 'Rimnicu': 146, 'Pitesti': 138},\n",
       " 'Drobeta': {'Mehadia': 75},\n",
       " 'Eforie': {'Hirsova': 86},\n",
       " 'Fagaras': {'Sibiu': 99},\n",
       " 'Hirsova': {'Urziceni': 98},\n",
       " 'Iasi': {'Vaslui': 92, 'Neamt': 87},\n",
       " 'Lugoj': {'Timisoara': 111, 'Mehadia': 70},\n",
       " 'Oradea': {'Zerind': 71, 'Sibiu': 151},\n",
       " 'Pitesti': {'Rimnicu': 97},\n",
       " 'Rimnicu': {'Sibiu': 80},\n",
       " 'Urziceni': {'Vaslui': 142}}"
      ]
     },
     "execution_count": 6,
     "metadata": {},
     "output_type": "execute_result"
    }
   ],
   "source": [
    "romaniaData"
   ]
  },
  {
   "cell_type": "markdown",
   "id": "4e61eedb",
   "metadata": {},
   "source": [
    "4. Based on this dictionary we need to build a graph\n",
    "* !!! Check the `Graph class`\n",
    "\n",
    "A graph connects nodes (vertices) by edges (links). Each edge can also have a length associated with it. \n",
    "\n",
    "* The constructor call is something like:\n",
    "\n",
    "        `g = Graph({'A': {'B': 1, 'C': 2})`\n",
    "\n",
    "this makes a graph with 3 nodes, A, B, and C, with an edge of length 1 from     A to B,  and an edge of length 2 from A to C. \n",
    "    \n",
    "This makes an `undirected graph`, so inverse links are also added. \n",
    "\n",
    "If you add more links with `g.connect('B', 'C', 3)`, then inverse link is also added. \n",
    "* You can use `g.nodes()` to get a list of nodes,\n",
    "* `g.get('A')` to get a dict of links out of A, \n",
    "* and `g.get('A', 'B')` to get the length of the link from A to B."
   ]
  },
  {
   "cell_type": "code",
   "execution_count": 7,
   "id": "1fe9ba1e",
   "metadata": {},
   "outputs": [],
   "source": [
    "from src.graphClass import Graph"
   ]
  },
  {
   "cell_type": "code",
   "execution_count": 8,
   "id": "ad6c0312",
   "metadata": {},
   "outputs": [],
   "source": [
    "romaniaGraph = Graph(romaniaData)"
   ]
  },
  {
   "cell_type": "code",
   "execution_count": 9,
   "id": "90ccb14b",
   "metadata": {},
   "outputs": [
    {
     "data": {
      "text/plain": [
       "['Urziceni',\n",
       " 'Hirsova',\n",
       " 'Zerind',\n",
       " 'Eforie',\n",
       " 'Vaslui',\n",
       " 'Lugoj',\n",
       " 'Craiova',\n",
       " 'Sibiu',\n",
       " 'Arad',\n",
       " 'Neamt',\n",
       " 'Oradea',\n",
       " 'Timisoara',\n",
       " 'Pitesti',\n",
       " 'Mehadia',\n",
       " 'Iasi',\n",
       " 'Drobeta',\n",
       " 'Bucharest',\n",
       " 'Rimnicu',\n",
       " 'Fagaras',\n",
       " 'Giurgiu']"
      ]
     },
     "execution_count": 9,
     "metadata": {},
     "output_type": "execute_result"
    }
   ],
   "source": [
    "romaniaGraph.nodes()"
   ]
  },
  {
   "cell_type": "code",
   "execution_count": 10,
   "id": "08c7fc85",
   "metadata": {},
   "outputs": [
    {
     "data": {
      "text/plain": [
       "{'Zerind': 75, 'Sibiu': 140, 'Timisoara': 118}"
      ]
     },
     "execution_count": 10,
     "metadata": {},
     "output_type": "execute_result"
    }
   ],
   "source": [
    "romaniaGraph.get('Arad')"
   ]
  },
  {
   "cell_type": "code",
   "execution_count": 11,
   "id": "1e0b9aed",
   "metadata": {},
   "outputs": [
    {
     "data": {
      "text/plain": [
       "75"
      ]
     },
     "execution_count": 11,
     "metadata": {},
     "output_type": "execute_result"
    }
   ],
   "source": [
    "romaniaGraph.get('Arad','Zerind')"
   ]
  },
  {
   "cell_type": "markdown",
   "id": "682439d6",
   "metadata": {},
   "source": [
    "Let's try to show the graph"
   ]
  },
  {
   "cell_type": "code",
   "execution_count": 12,
   "id": "9def7f6c",
   "metadata": {},
   "outputs": [],
   "source": [
    "from pyvis.network import Network "
   ]
  },
  {
   "cell_type": "code",
   "execution_count": 36,
   "id": "488e7b82",
   "metadata": {},
   "outputs": [],
   "source": [
    "net = Network( heading=\"Lab3. Examples of Romania Navigation Problem\",\n",
    "                bgcolor =\"#242020\",\n",
    "                font_color = \"white\",\n",
    "                height = \"750px\",\n",
    "                width = \"100%\"\n",
    ") # do this"
   ]
  },
  {
   "cell_type": "code",
   "execution_count": 37,
   "id": "5b52e47f",
   "metadata": {},
   "outputs": [],
   "source": [
    "net.add_nodes(romaniaGraph.nodes(), title=[str(node) for node in romaniaGraph.nodes()])"
   ]
  },
  {
   "cell_type": "code",
   "execution_count": 43,
   "id": "ad49525c",
   "metadata": {},
   "outputs": [],
   "source": [
    "nodeColors={\n",
    "    \"start\":\"red\",\n",
    "    \"goal\": \"green\",\n",
    "    \"frontier\": \"orange\",\n",
    "    \"expanded\":\"pink\"\n",
    "}"
   ]
  },
  {
   "cell_type": "code",
   "execution_count": 44,
   "id": "e1067995",
   "metadata": {},
   "outputs": [],
   "source": [
    "for node in net.nodes:\n",
    "    if node['id']=='Arad':\n",
    "        node[\"color\"]=nodeColors[\"start\"]\n",
    "    elif node['id']=='Bucharest':\n",
    "        node[\"color\"]=nodeColors[\"goal\"]\n",
    "    "
   ]
  },
  {
   "cell_type": "code",
   "execution_count": 38,
   "id": "f9180999",
   "metadata": {},
   "outputs": [
    {
     "data": {
      "text/plain": [
       "{'Arad': {'Zerind': 75, 'Sibiu': 140, 'Timisoara': 118},\n",
       " 'Bucharest': {'Urziceni': 85, 'Pitesti': 101, 'Giurgiu': 90, 'Fagaras': 211},\n",
       " 'Craiova': {'Drobeta': 120, 'Rimnicu': 146, 'Pitesti': 138},\n",
       " 'Drobeta': {'Mehadia': 75, 'Craiova': 120},\n",
       " 'Eforie': {'Hirsova': 86},\n",
       " 'Fagaras': {'Sibiu': 99, 'Bucharest': 211},\n",
       " 'Hirsova': {'Urziceni': 98, 'Eforie': 86},\n",
       " 'Iasi': {'Vaslui': 92, 'Neamt': 87},\n",
       " 'Lugoj': {'Timisoara': 111, 'Mehadia': 70},\n",
       " 'Oradea': {'Zerind': 71, 'Sibiu': 151},\n",
       " 'Pitesti': {'Rimnicu': 97, 'Bucharest': 101, 'Craiova': 138},\n",
       " 'Rimnicu': {'Sibiu': 80, 'Craiova': 146, 'Pitesti': 97},\n",
       " 'Urziceni': {'Vaslui': 142, 'Bucharest': 85, 'Hirsova': 98},\n",
       " 'Zerind': {'Arad': 75, 'Oradea': 71},\n",
       " 'Sibiu': {'Arad': 140, 'Fagaras': 99, 'Oradea': 151, 'Rimnicu': 80},\n",
       " 'Timisoara': {'Arad': 118, 'Lugoj': 111},\n",
       " 'Giurgiu': {'Bucharest': 90},\n",
       " 'Mehadia': {'Drobeta': 75, 'Lugoj': 70},\n",
       " 'Vaslui': {'Iasi': 92, 'Urziceni': 142},\n",
       " 'Neamt': {'Iasi': 87}}"
      ]
     },
     "execution_count": 38,
     "metadata": {},
     "output_type": "execute_result"
    }
   ],
   "source": [
    "romaniaGraph.graph_dict"
   ]
  },
  {
   "cell_type": "code",
   "execution_count": 39,
   "id": "fa2350fe",
   "metadata": {},
   "outputs": [],
   "source": [
    "edges=[]\n",
    "edges_labels=[]\n",
    "\n",
    "for node_source in romaniaGraph.nodes():\n",
    "    for node_target, dist in romaniaGraph.get(node_source).items():\n",
    "        if set((node_source,node_target)) not in edges:\n",
    "            net.add_edge(node_source,node_target, label=str(dist))\n",
    "            edges.append(set((node_source,node_target)))\n",
    "            edges_labels.append(str(dist))\n",
    "            \n",
    "    \n",
    "    "
   ]
  },
  {
   "cell_type": "code",
   "execution_count": 32,
   "id": "c7e1d2bc",
   "metadata": {},
   "outputs": [
    {
     "data": {
      "text/plain": [
       "['142', '85', '98', '86', '75']"
      ]
     },
     "execution_count": 32,
     "metadata": {},
     "output_type": "execute_result"
    }
   ],
   "source": [
    "edges_labels[:5]"
   ]
  },
  {
   "cell_type": "code",
   "execution_count": 33,
   "id": "ca7179e6",
   "metadata": {},
   "outputs": [
    {
     "data": {
      "text/plain": [
       "[{'Urziceni', 'Vaslui'},\n",
       " {'Bucharest', 'Urziceni'},\n",
       " {'Hirsova', 'Urziceni'},\n",
       " {'Eforie', 'Hirsova'},\n",
       " {'Arad', 'Zerind'}]"
      ]
     },
     "execution_count": 33,
     "metadata": {},
     "output_type": "execute_result"
    }
   ],
   "source": [
    "edges[:5]"
   ]
  },
  {
   "cell_type": "code",
   "execution_count": 41,
   "id": "4c64b0ce",
   "metadata": {},
   "outputs": [
    {
     "data": {
      "text/plain": [
       "[{'label': '142', 'from': 'Urziceni', 'to': 'Vaslui'},\n",
       " {'label': '85', 'from': 'Urziceni', 'to': 'Bucharest'},\n",
       " {'label': '98', 'from': 'Urziceni', 'to': 'Hirsova'},\n",
       " {'label': '86', 'from': 'Hirsova', 'to': 'Eforie'},\n",
       " {'label': '75', 'from': 'Zerind', 'to': 'Arad'},\n",
       " {'label': '71', 'from': 'Zerind', 'to': 'Oradea'},\n",
       " {'label': '92', 'from': 'Vaslui', 'to': 'Iasi'},\n",
       " {'label': '111', 'from': 'Lugoj', 'to': 'Timisoara'},\n",
       " {'label': '70', 'from': 'Lugoj', 'to': 'Mehadia'},\n",
       " {'label': '120', 'from': 'Craiova', 'to': 'Drobeta'},\n",
       " {'label': '146', 'from': 'Craiova', 'to': 'Rimnicu'},\n",
       " {'label': '138', 'from': 'Craiova', 'to': 'Pitesti'},\n",
       " {'label': '140', 'from': 'Sibiu', 'to': 'Arad'},\n",
       " {'label': '99', 'from': 'Sibiu', 'to': 'Fagaras'},\n",
       " {'label': '151', 'from': 'Sibiu', 'to': 'Oradea'},\n",
       " {'label': '80', 'from': 'Sibiu', 'to': 'Rimnicu'},\n",
       " {'label': '118', 'from': 'Arad', 'to': 'Timisoara'},\n",
       " {'label': '87', 'from': 'Neamt', 'to': 'Iasi'},\n",
       " {'label': '97', 'from': 'Pitesti', 'to': 'Rimnicu'},\n",
       " {'label': '101', 'from': 'Pitesti', 'to': 'Bucharest'},\n",
       " {'label': '75', 'from': 'Mehadia', 'to': 'Drobeta'},\n",
       " {'label': '90', 'from': 'Bucharest', 'to': 'Giurgiu'},\n",
       " {'label': '211', 'from': 'Bucharest', 'to': 'Fagaras'}]"
      ]
     },
     "execution_count": 41,
     "metadata": {},
     "output_type": "execute_result"
    }
   ],
   "source": [
    "net.edges"
   ]
  },
  {
   "cell_type": "code",
   "execution_count": 45,
   "id": "f0efc640",
   "metadata": {},
   "outputs": [
    {
     "name": "stdout",
     "output_type": "stream",
     "text": [
      "graph1.html\n"
     ]
    }
   ],
   "source": [
    "net.show(\"graph1.html\", notebook=False)"
   ]
  }
 ],
 "metadata": {
  "kernelspec": {
   "display_name": ".venv",
   "language": "python",
   "name": "python3"
  },
  "language_info": {
   "codemirror_mode": {
    "name": "ipython",
    "version": 3
   },
   "file_extension": ".py",
   "mimetype": "text/x-python",
   "name": "python",
   "nbconvert_exporter": "python",
   "pygments_lexer": "ipython3",
   "version": "3.13.0"
  }
 },
 "nbformat": 4,
 "nbformat_minor": 5
}
