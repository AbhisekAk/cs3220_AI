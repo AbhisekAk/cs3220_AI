{
 "cells": [
  {
   "cell_type": "markdown",
   "id": "974e6d1b",
   "metadata": {},
   "source": [
    "# Problem Solving Agents: Uninformed Search"
   ]
  },
  {
   "cell_type": "markdown",
   "id": "e4500141",
   "metadata": {},
   "source": [
    "## Problem-Solving Agents & State Space"
   ]
  },
  {
   "cell_type": "markdown",
   "id": "5ebaef93",
   "metadata": {},
   "source": [
    "When the correct action to take is not immediately obvious, an agent may need to to plan ahead: to consider a sequence of actions that form a path to a goal state.\n",
    "\n",
    "Such an agent is called a **problem-solving agent**, and the computational process it undertakes is called **search**.\n",
    "\n",
    "Problem-solving agents use atomic representations - states of the world are considered as wholes, with no internal structure visible to the problem-solving algorithms\n",
    "\n",
    "We are going to build the **goal-based agents** that can plan ahead to solve problems.\\\\\\\\\n",
    "\n",
    "\n",
    "\n",
    "       "
   ]
  },
  {
   "cell_type": "markdown",
   "id": "f3fa269b",
   "metadata": {},
   "source": [
    "### Romania navigation problem Example"
   ]
  },
  {
   "cell_type": "markdown",
   "id": "9fe8e808",
   "metadata": {},
   "source": [
    "In particular, we examine n*avigation problem/ route finding problem*.\n",
    "\n",
    "We consider only the simplest environments: single agent, fully observable, deterministic, static, discrete, and known\n",
    "\n",
    "1. We must begin by **precisely defining problems** -> `class Problem` - how we define a Problem in general \n",
    "\n",
    " **!!!** Explore the `class Problem`\n",
    "\n",
    "2. `class Problem` == The *abstract class* for a formal problem. \n",
    "* You should subclass     this and implement the methods `actions` and `result`, and possibly  ` __init__, goal_test`, and `path_cost`. \n",
    "* The *state space* should be included in a subclass\n",
    "* Then you will create instances of your subclass and solve them with the various search functions.\n",
    "\n",
    "3. `class  GraphProblem(Problem)` == The problem of searching a graph (the state space  ==  a graph) from one node to another\n",
    "* The state space is stored as nested dictionaries\n",
    "\n",
    "    `G={'node1':{'neighbor1_of_Node1':distance_from_Node1_to_neighbor1_of_Node1,..},\n",
    "       .....}`"
   ]
  },
  {
   "cell_type": "code",
   "execution_count": 4,
   "id": "09d6663f",
   "metadata": {},
   "outputs": [],
   "source": [
    "from src.graphProblemClass import GraphProblem"
   ]
  },
  {
   "cell_type": "markdown",
   "id": "6873dddd",
   "metadata": {},
   "source": [
    "The graph data -> stored in the nested dictionary `romaniaData`"
   ]
  },
  {
   "cell_type": "code",
   "execution_count": 5,
   "id": "2f9829ef",
   "metadata": {},
   "outputs": [],
   "source": [
    "from data.RomaniaMapData import romaniaData"
   ]
  },
  {
   "cell_type": "code",
   "execution_count": 6,
   "id": "034348bd",
   "metadata": {},
   "outputs": [
    {
     "data": {
      "text/plain": [
       "{'Arad': {'Zerind': 75, 'Sibiu': 140, 'Timisoara': 118},\n",
       " 'Bucharest': {'Urziceni': 85, 'Pitesti': 101, 'Giurgiu': 90, 'Fagaras': 211},\n",
       " 'Craiova': {'Drobeta': 120, 'Rimnicu': 146, 'Pitesti': 138},\n",
       " 'Drobeta': {'Mehadia': 75},\n",
       " 'Eforie': {'Hirsova': 86},\n",
       " 'Fagaras': {'Sibiu': 99},\n",
       " 'Hirsova': {'Urziceni': 98},\n",
       " 'Iasi': {'Vaslui': 92, 'Neamt': 87},\n",
       " 'Lugoj': {'Timisoara': 111, 'Mehadia': 70},\n",
       " 'Oradea': {'Zerind': 71, 'Sibiu': 151},\n",
       " 'Pitesti': {'Rimnicu': 97},\n",
       " 'Rimnicu': {'Sibiu': 80},\n",
       " 'Urziceni': {'Vaslui': 142}}"
      ]
     },
     "execution_count": 6,
     "metadata": {},
     "output_type": "execute_result"
    }
   ],
   "source": [
    "romaniaData"
   ]
  },
  {
   "cell_type": "markdown",
   "id": "4e61eedb",
   "metadata": {},
   "source": [
    "4. Based on this dictionary we need to build a graph\n",
    "* !!! Check the `Graph class`\n",
    "\n",
    "A graph connects nodes (vertices) by edges (links). Each edge can also have a length associated with it. \n",
    "\n",
    "* The constructor call is something like:\n",
    "\n",
    "        `g = Graph({'A': {'B': 1, 'C': 2})`\n",
    "\n",
    "this makes a graph with 3 nodes, A, B, and C, with an edge of length 1 from     A to B,  and an edge of length 2 from A to C. \n",
    "    \n",
    "This makes an `undirected graph`, so inverse links are also added. \n",
    "\n",
    "If you add more links with `g.connect('B', 'C', 3)`, then inverse link is also added. \n",
    "* You can use `g.nodes()` to get a list of nodes,\n",
    "* `g.get('A')` to get a dict of links out of A, \n",
    "* and `g.get('A', 'B')` to get the length of the link from A to B."
   ]
  },
  {
   "cell_type": "markdown",
   "id": "60e38624",
   "metadata": {},
   "source": []
  }
 ],
 "metadata": {
  "kernelspec": {
   "display_name": ".venv",
   "language": "python",
   "name": "python3"
  },
  "language_info": {
   "codemirror_mode": {
    "name": "ipython",
    "version": 3
   },
   "file_extension": ".py",
   "mimetype": "text/x-python",
   "name": "python",
   "nbconvert_exporter": "python",
   "pygments_lexer": "ipython3",
   "version": "3.13.0"
  }
 },
 "nbformat": 4,
 "nbformat_minor": 5
}
