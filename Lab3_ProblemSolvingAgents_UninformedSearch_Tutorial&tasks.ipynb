{
 "cells": [
  {
   "cell_type": "markdown",
   "id": "974e6d1b",
   "metadata": {},
   "source": [
    "# Problem Solving Agents: Uninformed Search"
   ]
  },
  {
   "cell_type": "markdown",
   "id": "e4500141",
   "metadata": {},
   "source": [
    "## Problem-Solving Agents & State Space"
   ]
  },
  {
   "cell_type": "markdown",
   "id": "5ebaef93",
   "metadata": {},
   "source": [
    "When the correct action to take is not immediately obvious, an agent may need to to plan ahead: to consider a sequence of actions that form a path to a goal state.\n",
    "\n",
    "Such an agent is called a **problem-solving agent**, and the computational process it undertakes is called **search**.\n",
    "\n",
    "Problem-solving agents use atomic representations - states of the world are considered as wholes, with no internal structure visible to the problem-solving algorithms\n",
    "\n",
    "We are going to build the **goal-based agents** that can plan ahead to solve problems.\n",
    "\n",
    "In particular, we examine n*avigation problem/ route finding problem*.\n",
    "\n",
    "We consider only the simplest environments: single agent, fully observable, deterministic, static, discrete, and known\n",
    "\n",
    "1. We must begin by **precisely defining problems** -> `class Problem` - how we define a Problem in general \n",
    "\n",
    " **!!!** Explore the `class Problem`\n",
    "\n",
    "2. `class Problem` == The *abstract class* for a formal problem. \n",
    "* You should subclass     this and implement the methods `actions` and `result`, and possibly  ` __init__, goal_test`, and `path_cost`. \n",
    "* The *state space* should be included in a subclass\n",
    "* Then you will create instances of your subclass and solve them with the various search functions."
   ]
  },
  {
   "cell_type": "markdown",
   "id": "9ab2afc2",
   "metadata": {},
   "source": []
  }
 ],
 "metadata": {
  "kernelspec": {
   "display_name": ".venv",
   "language": "python",
   "name": "python3"
  },
  "language_info": {
   "name": "python",
   "version": "3.13.0"
  }
 },
 "nbformat": 4,
 "nbformat_minor": 5
}
